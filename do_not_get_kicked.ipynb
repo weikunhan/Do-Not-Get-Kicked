{
 "cells": [
  {
   "cell_type": "markdown",
   "metadata": {},
   "source": [
    "# Don't Get Kicked!"
   ]
  },
  {
   "cell_type": "markdown",
   "metadata": {},
   "source": [
    "Machine Learning project for predicting a best used car purchased at auction."
   ]
  },
  {
   "cell_type": "markdown",
   "metadata": {},
   "source": [
    "# 1. Introduction"
   ]
  },
  {
   "cell_type": "markdown",
   "metadata": {},
   "source": [
    "An auto dealership often purchases a used car at an auto auction. This used car might have serious issues that cannot sell to customers. The auto community calls these unfortunate purchases \"kicks\". The purpose of this project is to build a model to predict if the car purchased at the Auction is a Kick (bad buy). All project data come from the [Kaggle](https://www.kaggle.com/c/DontGetKicked/data). I propose to use logistic regression as the main algorithm to create the classifier. After training and tuning hyperparameter of the classifier, the area under the curve (AUC) of my classifier is 0.73. The F1 score of my classifier is 0.35. The accuracy of the prediction on the testing dataset is 95%. This is a well-documented IPython file to explain how to step-by-step analyze this project. \n",
    "\n",
    "In this project, I will follow steps from _Hands-On Machine Learning with Scikit-Learn and TensorFlow_. This book provides a great strategy how to do an end-to-end machine learning project. I highly recommend this strategy for the machine learning project."
   ]
  },
  {
   "cell_type": "markdown",
   "metadata": {},
   "source": [
    "# 2. Look at the Big Picture"
   ]
  },
  {
   "cell_type": "markdown",
   "metadata": {},
   "source": [
    "## Frame the Problem"
   ]
  },
  {
   "cell_type": "markdown",
   "metadata": {},
   "source": [
    "The project target is to predict if the car purchased at the Auction is a Kick (bad buy).Therefore, I frame this project as a supervised classification problem."
   ]
  },
  {
   "cell_type": "markdown",
   "metadata": {},
   "source": [
    "## Select a Performance Measure"
   ]
  },
  {
   "cell_type": "markdown",
   "metadata": {},
   "source": [
    "I know this project is a supervised classification problem. Furthermore, this project is a binary classification problem(is a bad buy or isn't a bad buy). Therefore, I use three method to evaluate the performance of the model. I evaluate the performance of a classifier using F1 score. The F1 score is the combination of precision and recall, which is the harmonic mean of precision and recall. Also, I evaluate the performance of classifier use AUC of ROC (receiver operating characteristic). The ROC is another common tool used with binary classifiers. Finally, I evaluate the prediction accuracy of the testing dataset."
   ]
  },
  {
   "cell_type": "markdown",
   "metadata": {},
   "source": [
    "## Check the Assumptions"
   ]
  },
  {
   "cell_type": "markdown",
   "metadata": {},
   "source": [
    "It is good to list and verify the assumptions we make. In this project, I frame this problem as a classification task."
   ]
  },
  {
   "cell_type": "markdown",
   "metadata": {},
   "source": [
    "# 3. Get the Data"
   ]
  },
  {
   "cell_type": "markdown",
   "metadata": {},
   "source": [
    "## Downnload the Data"
   ]
  },
  {
   "cell_type": "markdown",
   "metadata": {},
   "source": [
    "I download data from Kaggle. Now I load the data using Pandas. Here, I write a small class including some functions to load different data."
   ]
  },
  {
   "cell_type": "code",
   "execution_count": 30,
   "metadata": {},
   "outputs": [],
   "source": [
    "import os\n",
    "import csv\n",
    "import pandas as pd\n",
    "import numpy as np\n",
    "\n",
    "# Where to open datasets\n",
    "PROJECT_ROOT_DIR = '.'\n",
    "DATASETS_PATH = os.path.join(PROJECT_ROOT_DIR, 'datasets')\n",
    "\n",
    "class loading: \n",
    "    \n",
    "    def load_train_car_data(version='old', path=DATASETS_PATH):\n",
    "        if version is 'old': \n",
    "            csv_path = os.path.join(path, 'train_set.csv')\n",
    "        \n",
    "        if version is 'new':\n",
    "            csv_path = os.path.join(path, 'train_set_new.csv')\n",
    "        \n",
    "        return pd.read_csv(csv_path)\n",
    "\n",
    "    def load_test_car_data(version='old', path=DATASETS_PATH):\n",
    "        if version is 'old': \n",
    "            csv_path = os.path.join(path, 'test_set.csv')\n",
    "        \n",
    "        if version is 'new':\n",
    "            csv_path = os.path.join(path, 'test_set_new.csv')\n",
    "        \n",
    "        return pd.read_csv(csv_path)\n",
    "\n",
    "    def load_test_labels_car_data(path=DATASETS_PATH):\n",
    "        csv_path = os.path.join(path, 'test_labels_set.csv')\n",
    "        \n",
    "        return pd.read_csv(csv_path)\n",
    "    \n",
    "    def redefine_train_category(data_name='train_set', path=DATASETS_PATH):\n",
    "        csv_path_in = os.path.join(path, data_name + '.csv')\n",
    "        csv_path_out = os.path.join(path, data_name + '_new.csv')\n",
    "\n",
    "        with open(csv_path_in) as in_file, open(csv_path_out, 'w') as out_file:\n",
    "            reader = csv.reader(in_file)\n",
    "            writer = csv.writer(out_file)\n",
    "\n",
    "            for row in reader:\n",
    "                purch_day = row[2]\n",
    "                make = row[6]\n",
    "                transmission = row[11]\n",
    "\n",
    "                # Change purchasing day category\n",
    "                if purch_day[-4:] == '2009':\n",
    "                    row[2] = 2009\n",
    "                elif purch_day[-4:] == '2010':\n",
    "                    row[2] = 2010\n",
    "\n",
    "                # Change purchasing day category\n",
    "                if make in ('LEXUS', 'TOYOTA SCION', 'ACURA', 'SUZUKI',\n",
    "                            'HONDA', 'INFINITI', 'SUBARU', 'SCION',\n",
    "                            'ISUZU', 'MAZDA', 'MITSUBISHI', 'TOYOTA',\n",
    "                            'NISSAN'):\n",
    "                    replaced = row[6].replace(make,'JAPANESE')\n",
    "                    row[6] = replaced\n",
    "                elif make in ('CHEVROLET', 'DODGE', 'FORD', 'CHRYSLER',\n",
    "                              'PONTIAC', 'SATURN', 'JEEP', 'MERCURY',\n",
    "                              'BUICK', 'GMC', 'OLDSMOBILE', 'LINCOLN',\n",
    "                              'CADILLAC', 'PLYMOUTH', 'HUMMER'):\n",
    "                    replaced = row[6].replace(make,'AMERICA')\n",
    "                    row[6] = replaced\n",
    "                elif make in ('KIA', 'HYUNDAI'):\n",
    "                    replaced = row[6].replace(make,'OTHER')\n",
    "                    row[6] = replaced\n",
    "                elif make in ('VOLKSWAGEN', 'VOLVO', 'MINI'):\n",
    "                    replaced = row[6].replace(make,'EUROPR')\n",
    "                    row[6] = replaced\n",
    "\n",
    "                # Change transmission category\n",
    "                if transmission in ('Manual'):\n",
    "                    replaced = row[11].replace(transmission,'MANUAL')\n",
    "                    row[11] = replaced\n",
    "\n",
    "                # Drop some of the less useful categories\n",
    "                row = (row[0], row[1], row[2], row[3], row[4], row[5],row[6], \n",
    "                       row[11], row[12], row[13], row[14], row[15], row[16], \n",
    "                       row[17], row[18], row[19], row[20], row[21], row[22], \n",
    "                       row[23], row[24], row[25], row[26], row[27], row[28], \n",
    "                       row[29], row[31], row[32], row[33])\n",
    "\n",
    "                # Write each row into the new file\n",
    "                writer.writerow(row)\n",
    "            \n",
    "    def redefine_test_category(data_name='test_set', path=DATASETS_PATH):\n",
    "        csv_path_in = os.path.join(path, data_name + '.csv')\n",
    "        csv_path_out = os.path.join(path, data_name + '_new.csv')\n",
    "\n",
    "        with open(csv_path_in) as in_file, open(csv_path_out, 'w') as out_file:\n",
    "            reader = csv.reader(in_file)\n",
    "            writer = csv.writer(out_file)\n",
    "\n",
    "            for row in reader:\n",
    "                purch_day = row[1]\n",
    "                make = row[5]\n",
    "                transmission = row[10]\n",
    "\n",
    "                # Change purchasing day category\n",
    "                if purch_day[-4:] == '2009':\n",
    "                    row[1] = 2009\n",
    "                elif purch_day[-4:] == '2010':\n",
    "                    row[1] = 2010\n",
    "\n",
    "                # Change purchasing day category\n",
    "                if make in ('LEXUS', 'TOYOTA SCION', 'ACURA', 'SUZUKI',\n",
    "                            'HONDA', 'INFINITI', 'SUBARU', 'SCION',\n",
    "                            'ISUZU', 'MAZDA', 'MITSUBISHI', 'TOYOTA',\n",
    "                            'NISSAN'):\n",
    "                    replaced = row[5].replace(make,'JAPANESE')\n",
    "                    row[5] = replaced\n",
    "                elif make in ('CHEVROLET', 'DODGE', 'FORD', 'CHRYSLER',\n",
    "                              'PONTIAC', 'SATURN', 'JEEP', 'MERCURY',\n",
    "                              'BUICK', 'GMC', 'OLDSMOBILE', 'LINCOLN',\n",
    "                              'CADILLAC', 'PLYMOUTH', 'HUMMER'):\n",
    "                    replaced = row[5].replace(make,'AMERICA')\n",
    "                    row[5] = replaced\n",
    "                elif make in ('KIA', 'HYUNDAI'):\n",
    "                    replaced = row[5].replace(make,'OTHER')\n",
    "                    row[5] = replaced\n",
    "                elif make in ('VOLKSWAGEN', 'VOLVO', 'MINI'):\n",
    "                    replaced = row[5].replace(make,'EUROPR')\n",
    "                    row[5] = replaced\n",
    "\n",
    "                # Change transmission category\n",
    "                if transmission is 'Manual':\n",
    "                    replaced = row[10].replace(transmission,'MANUAL')\n",
    "                    row[10] = replaced\n",
    "\n",
    "                # Drop some of the less useful categories\n",
    "                row = (row[0], row[1], row[2], row[3], row[4], row[5], row[10],\n",
    "                       row[11], row[12], row[13], row[14], row[15], row[16], \n",
    "                       row[17], row[18], row[19], row[20], row[21], row[22], \n",
    "                       row[23], row[24], row[25], row[26], row[27], row[28], \n",
    "                       row[30], row[31], row[32])\n",
    "\n",
    "                # Write each row into the new file\n",
    "                writer.writerow(row)"
   ]
  },
  {
   "cell_type": "markdown",
   "metadata": {},
   "source": [
    "## Take a Quik Look at the Data Structure"
   ]
  },
  {
   "cell_type": "markdown",
   "metadata": {},
   "source": [
    "Let's take a look at the top five rows using the DataFrame's head() method."
   ]
  },
  {
   "cell_type": "code",
   "execution_count": 31,
   "metadata": {},
   "outputs": [
    {
     "data": {
      "text/html": [
       "<div>\n",
       "<style scoped>\n",
       "    .dataframe tbody tr th:only-of-type {\n",
       "        vertical-align: middle;\n",
       "    }\n",
       "\n",
       "    .dataframe tbody tr th {\n",
       "        vertical-align: top;\n",
       "    }\n",
       "\n",
       "    .dataframe thead th {\n",
       "        text-align: right;\n",
       "    }\n",
       "</style>\n",
       "<table border=\"1\" class=\"dataframe\">\n",
       "  <thead>\n",
       "    <tr style=\"text-align: right;\">\n",
       "      <th></th>\n",
       "      <th>RefId</th>\n",
       "      <th>IsBadBuy</th>\n",
       "      <th>PurchDate</th>\n",
       "      <th>Auction</th>\n",
       "      <th>VehYear</th>\n",
       "      <th>VehicleAge</th>\n",
       "      <th>Make</th>\n",
       "      <th>Model</th>\n",
       "      <th>Trim</th>\n",
       "      <th>SubModel</th>\n",
       "      <th>...</th>\n",
       "      <th>MMRCurrentRetailAveragePrice</th>\n",
       "      <th>MMRCurrentRetailCleanPrice</th>\n",
       "      <th>PRIMEUNIT</th>\n",
       "      <th>AUCGUART</th>\n",
       "      <th>BYRNO</th>\n",
       "      <th>VNZIP1</th>\n",
       "      <th>VNST</th>\n",
       "      <th>VehBCost</th>\n",
       "      <th>IsOnlineSale</th>\n",
       "      <th>WarrantyCost</th>\n",
       "    </tr>\n",
       "  </thead>\n",
       "  <tbody>\n",
       "    <tr>\n",
       "      <th>0</th>\n",
       "      <td>1</td>\n",
       "      <td>0</td>\n",
       "      <td>12/7/2009</td>\n",
       "      <td>ADESA</td>\n",
       "      <td>2006</td>\n",
       "      <td>3</td>\n",
       "      <td>MAZDA</td>\n",
       "      <td>MAZDA3</td>\n",
       "      <td>i</td>\n",
       "      <td>4D SEDAN I</td>\n",
       "      <td>...</td>\n",
       "      <td>11597.0</td>\n",
       "      <td>12409.0</td>\n",
       "      <td>NaN</td>\n",
       "      <td>NaN</td>\n",
       "      <td>21973</td>\n",
       "      <td>33619</td>\n",
       "      <td>FL</td>\n",
       "      <td>7100.0</td>\n",
       "      <td>0</td>\n",
       "      <td>1113</td>\n",
       "    </tr>\n",
       "    <tr>\n",
       "      <th>1</th>\n",
       "      <td>2</td>\n",
       "      <td>0</td>\n",
       "      <td>12/7/2009</td>\n",
       "      <td>ADESA</td>\n",
       "      <td>2004</td>\n",
       "      <td>5</td>\n",
       "      <td>DODGE</td>\n",
       "      <td>1500 RAM PICKUP 2WD</td>\n",
       "      <td>ST</td>\n",
       "      <td>QUAD CAB 4.7L SLT</td>\n",
       "      <td>...</td>\n",
       "      <td>11374.0</td>\n",
       "      <td>12791.0</td>\n",
       "      <td>NaN</td>\n",
       "      <td>NaN</td>\n",
       "      <td>19638</td>\n",
       "      <td>33619</td>\n",
       "      <td>FL</td>\n",
       "      <td>7600.0</td>\n",
       "      <td>0</td>\n",
       "      <td>1053</td>\n",
       "    </tr>\n",
       "    <tr>\n",
       "      <th>2</th>\n",
       "      <td>3</td>\n",
       "      <td>0</td>\n",
       "      <td>12/7/2009</td>\n",
       "      <td>ADESA</td>\n",
       "      <td>2005</td>\n",
       "      <td>4</td>\n",
       "      <td>DODGE</td>\n",
       "      <td>STRATUS V6</td>\n",
       "      <td>SXT</td>\n",
       "      <td>4D SEDAN SXT FFV</td>\n",
       "      <td>...</td>\n",
       "      <td>7146.0</td>\n",
       "      <td>8702.0</td>\n",
       "      <td>NaN</td>\n",
       "      <td>NaN</td>\n",
       "      <td>19638</td>\n",
       "      <td>33619</td>\n",
       "      <td>FL</td>\n",
       "      <td>4900.0</td>\n",
       "      <td>0</td>\n",
       "      <td>1389</td>\n",
       "    </tr>\n",
       "    <tr>\n",
       "      <th>3</th>\n",
       "      <td>4</td>\n",
       "      <td>0</td>\n",
       "      <td>12/7/2009</td>\n",
       "      <td>ADESA</td>\n",
       "      <td>2004</td>\n",
       "      <td>5</td>\n",
       "      <td>DODGE</td>\n",
       "      <td>NEON</td>\n",
       "      <td>SXT</td>\n",
       "      <td>4D SEDAN</td>\n",
       "      <td>...</td>\n",
       "      <td>4375.0</td>\n",
       "      <td>5518.0</td>\n",
       "      <td>NaN</td>\n",
       "      <td>NaN</td>\n",
       "      <td>19638</td>\n",
       "      <td>33619</td>\n",
       "      <td>FL</td>\n",
       "      <td>4100.0</td>\n",
       "      <td>0</td>\n",
       "      <td>630</td>\n",
       "    </tr>\n",
       "    <tr>\n",
       "      <th>4</th>\n",
       "      <td>5</td>\n",
       "      <td>0</td>\n",
       "      <td>12/7/2009</td>\n",
       "      <td>ADESA</td>\n",
       "      <td>2005</td>\n",
       "      <td>4</td>\n",
       "      <td>FORD</td>\n",
       "      <td>FOCUS</td>\n",
       "      <td>ZX3</td>\n",
       "      <td>2D COUPE ZX3</td>\n",
       "      <td>...</td>\n",
       "      <td>6739.0</td>\n",
       "      <td>7911.0</td>\n",
       "      <td>NaN</td>\n",
       "      <td>NaN</td>\n",
       "      <td>19638</td>\n",
       "      <td>33619</td>\n",
       "      <td>FL</td>\n",
       "      <td>4000.0</td>\n",
       "      <td>0</td>\n",
       "      <td>1020</td>\n",
       "    </tr>\n",
       "  </tbody>\n",
       "</table>\n",
       "<p>5 rows × 34 columns</p>\n",
       "</div>"
      ],
      "text/plain": [
       "   RefId  IsBadBuy  PurchDate Auction  VehYear  VehicleAge   Make  \\\n",
       "0      1         0  12/7/2009   ADESA     2006           3  MAZDA   \n",
       "1      2         0  12/7/2009   ADESA     2004           5  DODGE   \n",
       "2      3         0  12/7/2009   ADESA     2005           4  DODGE   \n",
       "3      4         0  12/7/2009   ADESA     2004           5  DODGE   \n",
       "4      5         0  12/7/2009   ADESA     2005           4   FORD   \n",
       "\n",
       "                 Model Trim           SubModel      ...       \\\n",
       "0               MAZDA3    i         4D SEDAN I      ...        \n",
       "1  1500 RAM PICKUP 2WD   ST  QUAD CAB 4.7L SLT      ...        \n",
       "2           STRATUS V6  SXT   4D SEDAN SXT FFV      ...        \n",
       "3                 NEON  SXT           4D SEDAN      ...        \n",
       "4                FOCUS  ZX3       2D COUPE ZX3      ...        \n",
       "\n",
       "  MMRCurrentRetailAveragePrice MMRCurrentRetailCleanPrice  PRIMEUNIT AUCGUART  \\\n",
       "0                      11597.0                    12409.0        NaN      NaN   \n",
       "1                      11374.0                    12791.0        NaN      NaN   \n",
       "2                       7146.0                     8702.0        NaN      NaN   \n",
       "3                       4375.0                     5518.0        NaN      NaN   \n",
       "4                       6739.0                     7911.0        NaN      NaN   \n",
       "\n",
       "   BYRNO VNZIP1 VNST VehBCost  IsOnlineSale  WarrantyCost  \n",
       "0  21973  33619   FL   7100.0             0          1113  \n",
       "1  19638  33619   FL   7600.0             0          1053  \n",
       "2  19638  33619   FL   4900.0             0          1389  \n",
       "3  19638  33619   FL   4100.0             0           630  \n",
       "4  19638  33619   FL   4000.0             0          1020  \n",
       "\n",
       "[5 rows x 34 columns]"
      ]
     },
     "execution_count": 31,
     "metadata": {},
     "output_type": "execute_result"
    }
   ],
   "source": [
    "car = loading.load_train_car_data()\n",
    "car.head()"
   ]
  },
  {
   "cell_type": "markdown",
   "metadata": {},
   "source": [
    "The info() method is usefor to get a quick description fo the data. "
   ]
  },
  {
   "cell_type": "code",
   "execution_count": 32,
   "metadata": {},
   "outputs": [
    {
     "name": "stdout",
     "output_type": "stream",
     "text": [
      "<class 'pandas.core.frame.DataFrame'>\n",
      "RangeIndex: 72983 entries, 0 to 72982\n",
      "Data columns (total 34 columns):\n",
      "RefId                                72983 non-null int64\n",
      "IsBadBuy                             72983 non-null int64\n",
      "PurchDate                            72983 non-null object\n",
      "Auction                              72983 non-null object\n",
      "VehYear                              72983 non-null int64\n",
      "VehicleAge                           72983 non-null int64\n",
      "Make                                 72983 non-null object\n",
      "Model                                72983 non-null object\n",
      "Trim                                 70623 non-null object\n",
      "SubModel                             72975 non-null object\n",
      "Color                                72975 non-null object\n",
      "Transmission                         72974 non-null object\n",
      "WheelTypeID                          69814 non-null float64\n",
      "WheelType                            69809 non-null object\n",
      "VehOdo                               72983 non-null int64\n",
      "Nationality                          72978 non-null object\n",
      "Size                                 72978 non-null object\n",
      "TopThreeAmericanName                 72978 non-null object\n",
      "MMRAcquisitionAuctionAveragePrice    72965 non-null float64\n",
      "MMRAcquisitionAuctionCleanPrice      72965 non-null float64\n",
      "MMRAcquisitionRetailAveragePrice     72965 non-null float64\n",
      "MMRAcquisitonRetailCleanPrice        72965 non-null float64\n",
      "MMRCurrentAuctionAveragePrice        72668 non-null float64\n",
      "MMRCurrentAuctionCleanPrice          72668 non-null float64\n",
      "MMRCurrentRetailAveragePrice         72668 non-null float64\n",
      "MMRCurrentRetailCleanPrice           72668 non-null float64\n",
      "PRIMEUNIT                            3419 non-null object\n",
      "AUCGUART                             3419 non-null object\n",
      "BYRNO                                72983 non-null int64\n",
      "VNZIP1                               72983 non-null int64\n",
      "VNST                                 72983 non-null object\n",
      "VehBCost                             72983 non-null float64\n",
      "IsOnlineSale                         72983 non-null int64\n",
      "WarrantyCost                         72983 non-null int64\n",
      "dtypes: float64(10), int64(9), object(15)\n",
      "memory usage: 18.9+ MB\n"
     ]
    }
   ],
   "source": [
    "car.info()"
   ]
  },
  {
   "cell_type": "markdown",
   "metadata": {},
   "source": [
    "Then, I find out what categories exist and how many districts belong to each category by using the value_counts() method."
   ]
  },
  {
   "cell_type": "code",
   "execution_count": 33,
   "metadata": {},
   "outputs": [
    {
     "data": {
      "text/plain": [
       "CHEVROLET       17248\n",
       "DODGE           12912\n",
       "FORD            11305\n",
       "CHRYSLER         8844\n",
       "PONTIAC          4258\n",
       "KIA              2484\n",
       "SATURN           2163\n",
       "NISSAN           2085\n",
       "HYUNDAI          1811\n",
       "JEEP             1644\n",
       "SUZUKI           1328\n",
       "TOYOTA           1144\n",
       "MITSUBISHI       1030\n",
       "MAZDA             979\n",
       "MERCURY           913\n",
       "BUICK             720\n",
       "GMC               649\n",
       "HONDA             497\n",
       "OLDSMOBILE        243\n",
       "VOLKSWAGEN        134\n",
       "ISUZU             134\n",
       "SCION             129\n",
       "LINCOLN            97\n",
       "INFINITI           42\n",
       "VOLVO              37\n",
       "ACURA              33\n",
       "CADILLAC           33\n",
       "LEXUS              31\n",
       "SUBARU             28\n",
       "MINI               24\n",
       "PLYMOUTH            2\n",
       "TOYOTA SCION        1\n",
       "HUMMER              1\n",
       "Name: Make, dtype: int64"
      ]
     },
     "execution_count": 33,
     "metadata": {},
     "output_type": "execute_result"
    }
   ],
   "source": [
    "car['Make'].value_counts()"
   ]
  },
  {
   "cell_type": "markdown",
   "metadata": {},
   "source": [
    "The describe() method shows a summary of the numerical attributes."
   ]
  },
  {
   "cell_type": "code",
   "execution_count": 34,
   "metadata": {
    "scrolled": true
   },
   "outputs": [
    {
     "data": {
      "text/html": [
       "<div>\n",
       "<style scoped>\n",
       "    .dataframe tbody tr th:only-of-type {\n",
       "        vertical-align: middle;\n",
       "    }\n",
       "\n",
       "    .dataframe tbody tr th {\n",
       "        vertical-align: top;\n",
       "    }\n",
       "\n",
       "    .dataframe thead th {\n",
       "        text-align: right;\n",
       "    }\n",
       "</style>\n",
       "<table border=\"1\" class=\"dataframe\">\n",
       "  <thead>\n",
       "    <tr style=\"text-align: right;\">\n",
       "      <th></th>\n",
       "      <th>RefId</th>\n",
       "      <th>IsBadBuy</th>\n",
       "      <th>VehYear</th>\n",
       "      <th>VehicleAge</th>\n",
       "      <th>WheelTypeID</th>\n",
       "      <th>VehOdo</th>\n",
       "      <th>MMRAcquisitionAuctionAveragePrice</th>\n",
       "      <th>MMRAcquisitionAuctionCleanPrice</th>\n",
       "      <th>MMRAcquisitionRetailAveragePrice</th>\n",
       "      <th>MMRAcquisitonRetailCleanPrice</th>\n",
       "      <th>MMRCurrentAuctionAveragePrice</th>\n",
       "      <th>MMRCurrentAuctionCleanPrice</th>\n",
       "      <th>MMRCurrentRetailAveragePrice</th>\n",
       "      <th>MMRCurrentRetailCleanPrice</th>\n",
       "      <th>BYRNO</th>\n",
       "      <th>VNZIP1</th>\n",
       "      <th>VehBCost</th>\n",
       "      <th>IsOnlineSale</th>\n",
       "      <th>WarrantyCost</th>\n",
       "    </tr>\n",
       "  </thead>\n",
       "  <tbody>\n",
       "    <tr>\n",
       "      <th>count</th>\n",
       "      <td>72983.000000</td>\n",
       "      <td>72983.000000</td>\n",
       "      <td>72983.000000</td>\n",
       "      <td>72983.000000</td>\n",
       "      <td>69814.000000</td>\n",
       "      <td>72983.000000</td>\n",
       "      <td>72965.000000</td>\n",
       "      <td>72965.000000</td>\n",
       "      <td>72965.000000</td>\n",
       "      <td>72965.000000</td>\n",
       "      <td>72668.000000</td>\n",
       "      <td>72668.000000</td>\n",
       "      <td>72668.000000</td>\n",
       "      <td>72668.000000</td>\n",
       "      <td>72983.000000</td>\n",
       "      <td>72983.000000</td>\n",
       "      <td>72983.000000</td>\n",
       "      <td>72983.000000</td>\n",
       "      <td>72983.000000</td>\n",
       "    </tr>\n",
       "    <tr>\n",
       "      <th>mean</th>\n",
       "      <td>36511.428497</td>\n",
       "      <td>0.122988</td>\n",
       "      <td>2005.343052</td>\n",
       "      <td>4.176644</td>\n",
       "      <td>1.494299</td>\n",
       "      <td>71499.995917</td>\n",
       "      <td>6128.909217</td>\n",
       "      <td>7373.636031</td>\n",
       "      <td>8497.034332</td>\n",
       "      <td>9850.928240</td>\n",
       "      <td>6132.081287</td>\n",
       "      <td>7390.681827</td>\n",
       "      <td>8775.723331</td>\n",
       "      <td>10145.385314</td>\n",
       "      <td>26345.842155</td>\n",
       "      <td>58043.059945</td>\n",
       "      <td>6730.934326</td>\n",
       "      <td>0.025280</td>\n",
       "      <td>1276.580985</td>\n",
       "    </tr>\n",
       "    <tr>\n",
       "      <th>std</th>\n",
       "      <td>21077.241302</td>\n",
       "      <td>0.328425</td>\n",
       "      <td>1.731252</td>\n",
       "      <td>1.712210</td>\n",
       "      <td>0.521290</td>\n",
       "      <td>14578.913128</td>\n",
       "      <td>2461.992768</td>\n",
       "      <td>2722.491986</td>\n",
       "      <td>3156.285284</td>\n",
       "      <td>3385.789541</td>\n",
       "      <td>2434.567723</td>\n",
       "      <td>2686.248852</td>\n",
       "      <td>3090.702941</td>\n",
       "      <td>3310.254351</td>\n",
       "      <td>25717.351219</td>\n",
       "      <td>26151.640415</td>\n",
       "      <td>1767.846435</td>\n",
       "      <td>0.156975</td>\n",
       "      <td>598.846788</td>\n",
       "    </tr>\n",
       "    <tr>\n",
       "      <th>min</th>\n",
       "      <td>1.000000</td>\n",
       "      <td>0.000000</td>\n",
       "      <td>2001.000000</td>\n",
       "      <td>0.000000</td>\n",
       "      <td>0.000000</td>\n",
       "      <td>4825.000000</td>\n",
       "      <td>0.000000</td>\n",
       "      <td>0.000000</td>\n",
       "      <td>0.000000</td>\n",
       "      <td>0.000000</td>\n",
       "      <td>0.000000</td>\n",
       "      <td>0.000000</td>\n",
       "      <td>0.000000</td>\n",
       "      <td>0.000000</td>\n",
       "      <td>835.000000</td>\n",
       "      <td>2764.000000</td>\n",
       "      <td>1.000000</td>\n",
       "      <td>0.000000</td>\n",
       "      <td>462.000000</td>\n",
       "    </tr>\n",
       "    <tr>\n",
       "      <th>25%</th>\n",
       "      <td>18257.500000</td>\n",
       "      <td>0.000000</td>\n",
       "      <td>2004.000000</td>\n",
       "      <td>3.000000</td>\n",
       "      <td>1.000000</td>\n",
       "      <td>61837.000000</td>\n",
       "      <td>4273.000000</td>\n",
       "      <td>5406.000000</td>\n",
       "      <td>6280.000000</td>\n",
       "      <td>7493.000000</td>\n",
       "      <td>4275.000000</td>\n",
       "      <td>5414.000000</td>\n",
       "      <td>6536.000000</td>\n",
       "      <td>7784.000000</td>\n",
       "      <td>17212.000000</td>\n",
       "      <td>32124.000000</td>\n",
       "      <td>5435.000000</td>\n",
       "      <td>0.000000</td>\n",
       "      <td>837.000000</td>\n",
       "    </tr>\n",
       "    <tr>\n",
       "      <th>50%</th>\n",
       "      <td>36514.000000</td>\n",
       "      <td>0.000000</td>\n",
       "      <td>2005.000000</td>\n",
       "      <td>4.000000</td>\n",
       "      <td>1.000000</td>\n",
       "      <td>73361.000000</td>\n",
       "      <td>6097.000000</td>\n",
       "      <td>7303.000000</td>\n",
       "      <td>8444.000000</td>\n",
       "      <td>9789.000000</td>\n",
       "      <td>6062.000000</td>\n",
       "      <td>7313.000000</td>\n",
       "      <td>8729.000000</td>\n",
       "      <td>10103.000000</td>\n",
       "      <td>19662.000000</td>\n",
       "      <td>73108.000000</td>\n",
       "      <td>6700.000000</td>\n",
       "      <td>0.000000</td>\n",
       "      <td>1155.000000</td>\n",
       "    </tr>\n",
       "    <tr>\n",
       "      <th>75%</th>\n",
       "      <td>54764.500000</td>\n",
       "      <td>0.000000</td>\n",
       "      <td>2007.000000</td>\n",
       "      <td>5.000000</td>\n",
       "      <td>2.000000</td>\n",
       "      <td>82436.000000</td>\n",
       "      <td>7765.000000</td>\n",
       "      <td>9021.000000</td>\n",
       "      <td>10651.000000</td>\n",
       "      <td>12088.000000</td>\n",
       "      <td>7736.000000</td>\n",
       "      <td>9013.000000</td>\n",
       "      <td>10911.000000</td>\n",
       "      <td>12309.000000</td>\n",
       "      <td>22808.000000</td>\n",
       "      <td>80022.000000</td>\n",
       "      <td>7900.000000</td>\n",
       "      <td>0.000000</td>\n",
       "      <td>1623.000000</td>\n",
       "    </tr>\n",
       "    <tr>\n",
       "      <th>max</th>\n",
       "      <td>73014.000000</td>\n",
       "      <td>1.000000</td>\n",
       "      <td>2010.000000</td>\n",
       "      <td>9.000000</td>\n",
       "      <td>3.000000</td>\n",
       "      <td>115717.000000</td>\n",
       "      <td>35722.000000</td>\n",
       "      <td>36859.000000</td>\n",
       "      <td>39080.000000</td>\n",
       "      <td>41482.000000</td>\n",
       "      <td>35722.000000</td>\n",
       "      <td>36859.000000</td>\n",
       "      <td>39080.000000</td>\n",
       "      <td>41062.000000</td>\n",
       "      <td>99761.000000</td>\n",
       "      <td>99224.000000</td>\n",
       "      <td>45469.000000</td>\n",
       "      <td>1.000000</td>\n",
       "      <td>7498.000000</td>\n",
       "    </tr>\n",
       "  </tbody>\n",
       "</table>\n",
       "</div>"
      ],
      "text/plain": [
       "              RefId      IsBadBuy       VehYear    VehicleAge   WheelTypeID  \\\n",
       "count  72983.000000  72983.000000  72983.000000  72983.000000  69814.000000   \n",
       "mean   36511.428497      0.122988   2005.343052      4.176644      1.494299   \n",
       "std    21077.241302      0.328425      1.731252      1.712210      0.521290   \n",
       "min        1.000000      0.000000   2001.000000      0.000000      0.000000   \n",
       "25%    18257.500000      0.000000   2004.000000      3.000000      1.000000   \n",
       "50%    36514.000000      0.000000   2005.000000      4.000000      1.000000   \n",
       "75%    54764.500000      0.000000   2007.000000      5.000000      2.000000   \n",
       "max    73014.000000      1.000000   2010.000000      9.000000      3.000000   \n",
       "\n",
       "              VehOdo  MMRAcquisitionAuctionAveragePrice  \\\n",
       "count   72983.000000                       72965.000000   \n",
       "mean    71499.995917                        6128.909217   \n",
       "std     14578.913128                        2461.992768   \n",
       "min      4825.000000                           0.000000   \n",
       "25%     61837.000000                        4273.000000   \n",
       "50%     73361.000000                        6097.000000   \n",
       "75%     82436.000000                        7765.000000   \n",
       "max    115717.000000                       35722.000000   \n",
       "\n",
       "       MMRAcquisitionAuctionCleanPrice  MMRAcquisitionRetailAveragePrice  \\\n",
       "count                     72965.000000                      72965.000000   \n",
       "mean                       7373.636031                       8497.034332   \n",
       "std                        2722.491986                       3156.285284   \n",
       "min                           0.000000                          0.000000   \n",
       "25%                        5406.000000                       6280.000000   \n",
       "50%                        7303.000000                       8444.000000   \n",
       "75%                        9021.000000                      10651.000000   \n",
       "max                       36859.000000                      39080.000000   \n",
       "\n",
       "       MMRAcquisitonRetailCleanPrice  MMRCurrentAuctionAveragePrice  \\\n",
       "count                   72965.000000                   72668.000000   \n",
       "mean                     9850.928240                    6132.081287   \n",
       "std                      3385.789541                    2434.567723   \n",
       "min                         0.000000                       0.000000   \n",
       "25%                      7493.000000                    4275.000000   \n",
       "50%                      9789.000000                    6062.000000   \n",
       "75%                     12088.000000                    7736.000000   \n",
       "max                     41482.000000                   35722.000000   \n",
       "\n",
       "       MMRCurrentAuctionCleanPrice  MMRCurrentRetailAveragePrice  \\\n",
       "count                 72668.000000                  72668.000000   \n",
       "mean                   7390.681827                   8775.723331   \n",
       "std                    2686.248852                   3090.702941   \n",
       "min                       0.000000                      0.000000   \n",
       "25%                    5414.000000                   6536.000000   \n",
       "50%                    7313.000000                   8729.000000   \n",
       "75%                    9013.000000                  10911.000000   \n",
       "max                   36859.000000                  39080.000000   \n",
       "\n",
       "       MMRCurrentRetailCleanPrice         BYRNO        VNZIP1      VehBCost  \\\n",
       "count                72668.000000  72983.000000  72983.000000  72983.000000   \n",
       "mean                 10145.385314  26345.842155  58043.059945   6730.934326   \n",
       "std                   3310.254351  25717.351219  26151.640415   1767.846435   \n",
       "min                      0.000000    835.000000   2764.000000      1.000000   \n",
       "25%                   7784.000000  17212.000000  32124.000000   5435.000000   \n",
       "50%                  10103.000000  19662.000000  73108.000000   6700.000000   \n",
       "75%                  12309.000000  22808.000000  80022.000000   7900.000000   \n",
       "max                  41062.000000  99761.000000  99224.000000  45469.000000   \n",
       "\n",
       "       IsOnlineSale  WarrantyCost  \n",
       "count  72983.000000  72983.000000  \n",
       "mean       0.025280   1276.580985  \n",
       "std        0.156975    598.846788  \n",
       "min        0.000000    462.000000  \n",
       "25%        0.000000    837.000000  \n",
       "50%        0.000000   1155.000000  \n",
       "75%        0.000000   1623.000000  \n",
       "max        1.000000   7498.000000  "
      ]
     },
     "execution_count": 34,
     "metadata": {},
     "output_type": "execute_result"
    }
   ],
   "source": [
    "car.describe()"
   ]
  },
  {
   "cell_type": "markdown",
   "metadata": {},
   "source": [
    "For better visualization of data distribution, I call hist() method on the whole dataset, and it will plot a histogram for each numerical attribute. Here, I also write a small class including some functions to plot graphs and save pictures."
   ]
  },
  {
   "cell_type": "code",
   "execution_count": 35,
   "metadata": {},
   "outputs": [],
   "source": [
    "from __future__ import division, print_function, unicode_literals\n",
    "\n",
    "import os\n",
    "import numpy as np\n",
    "import matplotlib.pyplot as plt\n",
    "\n",
    "# To make this notebook's output stable across runs\n",
    "np.random.seed(42)\n",
    "\n",
    "# Define the label size\n",
    "plt.rcParams['axes.labelsize'] = 14\n",
    "plt.rcParams['xtick.labelsize'] = 12\n",
    "plt.rcParams['ytick.labelsize'] = 12\n",
    "\n",
    "# Where to save the figures\n",
    "PROJECT_ROOT_DIR = \".\"\n",
    "IMAGES_PATH = os.path.join(PROJECT_ROOT_DIR, 'images')\n",
    "\n",
    "class plotting: \n",
    "    \n",
    "    def save_fig(fig_id, tight_layout=True, fig_extension='png', resolution=300):\n",
    "        path = os.path.join(IMAGES_PATH, fig_id + \".\" + fig_extension)\n",
    "        print(\"Saving figure\", fig_id)\n",
    "\n",
    "        if tight_layout:\n",
    "            plt.tight_layout()\n",
    "\n",
    "        plt.savefig(path, format=fig_extension, dpi=resolution)\n",
    "\n",
    "    def plot_roc_curve(fpr, tpr, label=None):\n",
    "        plt.plot(fpr, tpr, linewidth=2, label=label)\n",
    "        plt.plot([0, 1], [0, 1], 'k--')\n",
    "        plt.axis([0, 1, 0, 1])\n",
    "        plt.xlabel('False Positive Rate', fontsize=16)\n",
    "        plt.ylabel('True Positive Rate', fontsize=16)"
   ]
  },
  {
   "cell_type": "code",
   "execution_count": 36,
   "metadata": {},
   "outputs": [
    {
     "name": "stdout",
     "output_type": "stream",
     "text": [
      "Saving figure attribute_histogram_plots\n"
     ]
    },
    {
     "data": {
      "image/png": "[encoded data removed]",
      "text/plain": [
       "<matplotlib.figure.Figure at 0x7efc416679b0>"
      ]
     },
     "metadata": {},
     "output_type": "display_data"
    }
   ],
   "source": [
    "import matplotlib.pyplot as plt\n",
    "\n",
    "car.hist(bins=50, figsize=(20,15))\n",
    "plotting.save_fig('attribute_histogram_plots')\n",
    "plt.show()"
   ]
  },
  {
   "cell_type": "markdown",
   "metadata": {},
   "source": [
    "## Create a Test Set"
   ]
  },
  {
   "cell_type": "markdown",
   "metadata": {},
   "source": [
    "After I know the data distribution, I would like to split training and test dataset. However, I needn't to split datasets because Kaggle already provides train(60%) and test(40%) dataset. (The scikit-learn provides a few functions to split datasets into multiple subsets in various ways.)"
   ]
  },
  {
   "cell_type": "markdown",
   "metadata": {},
   "source": [
    "# 4. Discover and Visualize the Data to Gain Insights"
   ]
  },
  {
   "cell_type": "markdown",
   "metadata": {},
   "source": [
    "## Looking for correlations"
   ]
  },
  {
   "cell_type": "markdown",
   "metadata": {},
   "source": [
    "Since the dataset is not too large, I can easily compute the standard correlation coefficient(also called Pearson's r) between every pair of attributes using the corr()."
   ]
  },
  {
   "cell_type": "code",
   "execution_count": 37,
   "metadata": {},
   "outputs": [
    {
     "data": {
      "text/plain": [
       "IsBadBuy                             1.000000\n",
       "VehicleAge                           0.167164\n",
       "VehOdo                               0.082560\n",
       "WarrantyCost                         0.052319\n",
       "RefId                                0.023973\n",
       "VNZIP1                               0.005796\n",
       "IsOnlineSale                        -0.003697\n",
       "WheelTypeID                         -0.044620\n",
       "BYRNO                               -0.061488\n",
       "MMRAcquisitonRetailCleanPrice       -0.083665\n",
       "MMRAcquisitionRetailAveragePrice    -0.087418\n",
       "VehBCost                            -0.099911\n",
       "MMRCurrentRetailCleanPrice          -0.100245\n",
       "MMRAcquisitionAuctionCleanPrice     -0.102954\n",
       "MMRCurrentRetailAveragePrice        -0.103914\n",
       "MMRCurrentAuctionCleanPrice         -0.104020\n",
       "MMRCurrentAuctionAveragePrice       -0.109112\n",
       "MMRAcquisitionAuctionAveragePrice   -0.109252\n",
       "VehYear                             -0.158886\n",
       "Name: IsBadBuy, dtype: float64"
      ]
     },
     "execution_count": 37,
     "metadata": {},
     "output_type": "execute_result"
    }
   ],
   "source": [
    "corr_matrix = car.corr()\n",
    "corr_matrix['IsBadBuy'].sort_values(ascending=False)"
   ]
  },
  {
   "cell_type": "markdown",
   "metadata": {},
   "source": [
    "## Experimenting with Attribute Combinations"
   ]
  },
  {
   "cell_type": "markdown",
   "metadata": {},
   "source": [
    "One last thing I want to do before actually preparing the data for Machine Learning algorithms is to try out various attribute combinations. The more miles per year driver drive; the more likely driver will more cause a kick car. "
   ]
  },
  {
   "cell_type": "code",
   "execution_count": 38,
   "metadata": {},
   "outputs": [
    {
     "data": {
      "text/plain": [
       "IsBadBuy                             1.000000\n",
       "VehicleAge                           0.167164\n",
       "VehOdo                               0.082560\n",
       "WarrantyCost                         0.052319\n",
       "RefId                                0.023973\n",
       "VNZIP1                               0.005796\n",
       "IsOnlineSale                        -0.003697\n",
       "WheelTypeID                         -0.044620\n",
       "BYRNO                               -0.061488\n",
       "MMRAcquisitonRetailCleanPrice       -0.083665\n",
       "MMRAcquisitionRetailAveragePrice    -0.087418\n",
       "VehBCost                            -0.099911\n",
       "MMRCurrentRetailCleanPrice          -0.100245\n",
       "MMRAcquisitionAuctionCleanPrice     -0.102954\n",
       "MMRCurrentRetailAveragePrice        -0.103914\n",
       "MMRCurrentAuctionCleanPrice         -0.104020\n",
       "MMRCurrentAuctionAveragePrice       -0.109112\n",
       "MMRAcquisitionAuctionAveragePrice   -0.109252\n",
       "miles_per_year                      -0.112894\n",
       "VehYear                             -0.158886\n",
       "Name: IsBadBuy, dtype: float64"
      ]
     },
     "execution_count": 38,
     "metadata": {},
     "output_type": "execute_result"
    }
   ],
   "source": [
    "car['miles_per_year'] = car['VehOdo'] / car['VehicleAge']\n",
    "corr_matrix = car.corr()\n",
    "corr_matrix['IsBadBuy'].sort_values(ascending=False)"
   ]
  },
  {
   "cell_type": "markdown",
   "metadata": {},
   "source": [
    "# 5. Prepare the data for Machine Learning algorithms"
   ]
  },
  {
   "cell_type": "markdown",
   "metadata": {},
   "source": [
    "First, let separate the predictors and the labels since I don't necessarily want to apply the same transformations to the predictors and the target values."
   ]
  },
  {
   "cell_type": "code",
   "execution_count": 39,
   "metadata": {},
   "outputs": [],
   "source": [
    "car = loading.load_train_car_data()\n",
    "car_labels = car['IsBadBuy'].copy()\n",
    "car = car.drop(['IsBadBuy'], axis=1)"
   ]
  },
  {
   "cell_type": "markdown",
   "metadata": {},
   "source": [
    "## Data Cleaning"
   ]
  },
  {
   "cell_type": "markdown",
   "metadata": {
    "collapsed": true
   },
   "source": [
    "Many times, I noticed that some attributes have some missing values. I can accomplish these easily using DataFrame's dropna(), drop(), and fillna() methods. Also, scikit-learn provides a handy class to take care of missing values: Imputer. Here, the feature was represented by a continuous value, I would replace the missing value with the average of the feature over the other samples."
   ]
  },
  {
   "cell_type": "code",
   "execution_count": 40,
   "metadata": {},
   "outputs": [],
   "source": [
    "from sklearn.preprocessing import Imputer\n",
    "\n",
    "imputer = Imputer(strategy='median')"
   ]
  },
  {
   "cell_type": "markdown",
   "metadata": {},
   "source": [
    "Since the median can only be computed on numeriical attributes, I need to create a copy of the data without the text attribute."
   ]
  },
  {
   "cell_type": "code",
   "execution_count": 41,
   "metadata": {},
   "outputs": [],
   "source": [
    "car_num = car.select_dtypes(include=[np.number])"
   ]
  },
  {
   "cell_type": "markdown",
   "metadata": {},
   "source": [
    "Now I fit the imputer instance to the training data using the fit() method."
   ]
  },
  {
   "cell_type": "code",
   "execution_count": 42,
   "metadata": {},
   "outputs": [
    {
     "data": {
      "text/plain": [
       "Imputer(axis=0, copy=True, missing_values='NaN', strategy='median', verbose=0)"
      ]
     },
     "execution_count": 42,
     "metadata": {},
     "output_type": "execute_result"
    }
   ],
   "source": [
    "imputer.fit(car_num)"
   ]
  },
  {
   "cell_type": "markdown",
   "metadata": {},
   "source": [
    "The imputer has simply computed the median of each attribute and stored the result in its statistics_ instance veriable."
   ]
  },
  {
   "cell_type": "code",
   "execution_count": 43,
   "metadata": {},
   "outputs": [
    {
     "data": {
      "text/plain": [
       "array([  3.65140000e+04,   2.00500000e+03,   4.00000000e+00,\n",
       "         1.00000000e+00,   7.33610000e+04,   6.09700000e+03,\n",
       "         7.30300000e+03,   8.44400000e+03,   9.78900000e+03,\n",
       "         6.06200000e+03,   7.31300000e+03,   8.72900000e+03,\n",
       "         1.01030000e+04,   1.96620000e+04,   7.31080000e+04,\n",
       "         6.70000000e+03,   0.00000000e+00,   1.15500000e+03])"
      ]
     },
     "execution_count": 43,
     "metadata": {},
     "output_type": "execute_result"
    }
   ],
   "source": [
    "imputer.statistics_"
   ]
  },
  {
   "cell_type": "markdown",
   "metadata": {},
   "source": [
    "Now I use this \"trained\" imputer to transform the training set by replacing missing values by the learned medians."
   ]
  },
  {
   "cell_type": "code",
   "execution_count": 44,
   "metadata": {},
   "outputs": [],
   "source": [
    "X = imputer.transform(car_num)"
   ]
  },
  {
   "cell_type": "markdown",
   "metadata": {},
   "source": [
    "Next, I put the median value back to replace the miss value."
   ]
  },
  {
   "cell_type": "code",
   "execution_count": 45,
   "metadata": {},
   "outputs": [],
   "source": [
    "car_num = pd.DataFrame(X, columns=car_num.columns)"
   ]
  },
  {
   "cell_type": "markdown",
   "metadata": {},
   "source": [
    "## Handing Text and Categorical Attributes"
   ]
  },
  {
   "cell_type": "markdown",
   "metadata": {},
   "source": [
    "Earlier I left out many categorical attributes because those are a text attribute so we cannot compute its median. Most Machine Learning algorithms prefer to work with numbers, so let's convert these text labels to numbers. The author of _Hands-On Machine Learning with Scikit-Learn and TensorFlow_ provides a method to encoder these text labels. I can use this method to get one-hot encoding easily."
   ]
  },
  {
   "cell_type": "code",
   "execution_count": 46,
   "metadata": {},
   "outputs": [],
   "source": [
    "# Definition of the CategoricalEncoder class, copied from PR #9151.\n",
    "# Just run this cell, or copy it to your code, do not try to understand it (yet).\n",
    "\n",
    "from sklearn.base import BaseEstimator, TransformerMixin\n",
    "from sklearn.utils import check_array\n",
    "from sklearn.preprocessing import LabelEncoder\n",
    "from scipy import sparse\n",
    "\n",
    "class CategoricalEncoder(BaseEstimator, TransformerMixin):\n",
    "    \"\"\"Encode categorical features as a numeric array.\n",
    "    The input to this transformer should be a matrix of integers or strings,\n",
    "    denoting the values taken on by categorical (discrete) features.\n",
    "    The features can be encoded using a one-hot aka one-of-K scheme\n",
    "    (``encoding='onehot'``, the default) or converted to ordinal integers\n",
    "    (``encoding='ordinal'``).\n",
    "    This encoding is needed for feeding categorical data to many scikit-learn\n",
    "    estimators, notably linear models and SVMs with the standard kernels.\n",
    "    Read more in the :ref:`User Guide <preprocessing_categorical_features>`.\n",
    "    Parameters\n",
    "    ----------\n",
    "    encoding : str, 'onehot', 'onehot-dense' or 'ordinal'\n",
    "        The type of encoding to use (default is 'onehot'):\n",
    "        - 'onehot': encode the features using a one-hot aka one-of-K scheme\n",
    "          (or also called 'dummy' encoding). This creates a binary column for\n",
    "          each category and returns a sparse matrix.\n",
    "        - 'onehot-dense': the same as 'onehot' but returns a dense array\n",
    "          instead of a sparse matrix.\n",
    "        - 'ordinal': encode the features as ordinal integers. This results in\n",
    "          a single column of integers (0 to n_categories - 1) per feature.\n",
    "    categories : 'auto' or a list of lists/arrays of values.\n",
    "        Categories (unique values) per feature:\n",
    "        - 'auto' : Determine categories automatically from the training data.\n",
    "        - list : ``categories[i]`` holds the categories expected in the ith\n",
    "          column. The passed categories are sorted before encoding the data\n",
    "          (used categories can be found in the ``categories_`` attribute).\n",
    "    dtype : number type, default np.float64\n",
    "        Desired dtype of output.\n",
    "    handle_unknown : 'error' (default) or 'ignore'\n",
    "        Whether to raise an error or ignore if a unknown categorical feature is\n",
    "        present during transform (default is to raise). When this is parameter\n",
    "        is set to 'ignore' and an unknown category is encountered during\n",
    "        transform, the resulting one-hot encoded columns for this feature\n",
    "        will be all zeros.\n",
    "        Ignoring unknown categories is not supported for\n",
    "        ``encoding='ordinal'``.\n",
    "    Attributes\n",
    "    ----------\n",
    "    categories_ : list of arrays\n",
    "        The categories of each feature determined during fitting. When\n",
    "        categories were specified manually, this holds the sorted categories\n",
    "        (in order corresponding with output of `transform`).\n",
    "    Examples\n",
    "    --------\n",
    "    Given a dataset with three features and two samples, we let the encoder\n",
    "    find the maximum value per feature and transform the data to a binary\n",
    "    one-hot encoding.\n",
    "    >>> from sklearn.preprocessing import CategoricalEncoder\n",
    "    >>> enc = CategoricalEncoder(handle_unknown='ignore')\n",
    "    >>> enc.fit([[0, 0, 3], [1, 1, 0], [0, 2, 1], [1, 0, 2]])\n",
    "    ... # doctest: +ELLIPSIS\n",
    "    CategoricalEncoder(categories='auto', dtype=<... 'numpy.float64'>,\n",
    "              encoding='onehot', handle_unknown='ignore')\n",
    "    >>> enc.transform([[0, 1, 1], [1, 0, 4]]).toarray()\n",
    "    array([[ 1.,  0.,  0.,  1.,  0.,  0.,  1.,  0.,  0.],\n",
    "           [ 0.,  1.,  1.,  0.,  0.,  0.,  0.,  0.,  0.]])\n",
    "    See also\n",
    "    --------\n",
    "    sklearn.preprocessing.OneHotEncoder : performs a one-hot encoding of\n",
    "      integer ordinal features. The ``OneHotEncoder assumes`` that input\n",
    "      features take on values in the range ``[0, max(feature)]`` instead of\n",
    "      using the unique values.\n",
    "    sklearn.feature_extraction.DictVectorizer : performs a one-hot encoding of\n",
    "      dictionary items (also handles string-valued features).\n",
    "    sklearn.feature_extraction.FeatureHasher : performs an approximate one-hot\n",
    "      encoding of dictionary items or strings.\n",
    "    \"\"\"\n",
    "\n",
    "    def __init__(self, encoding='onehot', categories='auto', dtype=np.float64,\n",
    "                 handle_unknown='error'):\n",
    "        self.encoding = encoding\n",
    "        self.categories = categories\n",
    "        self.dtype = dtype\n",
    "        self.handle_unknown = handle_unknown\n",
    "\n",
    "    def fit(self, X, y=None):\n",
    "        \"\"\"Fit the CategoricalEncoder to X.\n",
    "        Parameters\n",
    "        ----------\n",
    "        X : array-like, shape [n_samples, n_feature]\n",
    "            The data to determine the categories of each feature.\n",
    "        Returns\n",
    "        -------\n",
    "        self\n",
    "        \"\"\"\n",
    "\n",
    "        if self.encoding not in ['onehot', 'onehot-dense', 'ordinal']:\n",
    "            template = (\"encoding should be either 'onehot', 'onehot-dense' \"\n",
    "                        \"or 'ordinal', got %s\")\n",
    "            raise ValueError(template % self.handle_unknown)\n",
    "\n",
    "        if self.handle_unknown not in ['error', 'ignore']:\n",
    "            template = (\"handle_unknown should be either 'error' or \"\n",
    "                        \"'ignore', got %s\")\n",
    "            raise ValueError(template % self.handle_unknown)\n",
    "\n",
    "        if self.encoding == 'ordinal' and self.handle_unknown == 'ignore':\n",
    "            raise ValueError(\"handle_unknown='ignore' is not supported for\"\n",
    "                             \" encoding='ordinal'\")\n",
    "\n",
    "        X = check_array(X, dtype=np.object, accept_sparse='csc', copy=True)\n",
    "        n_samples, n_features = X.shape\n",
    "\n",
    "        self._label_encoders_ = [LabelEncoder() for _ in range(n_features)]\n",
    "\n",
    "        for i in range(n_features):\n",
    "            le = self._label_encoders_[i]\n",
    "            Xi = X[:, i]\n",
    "            if self.categories == 'auto':\n",
    "                le.fit(Xi)\n",
    "            else:\n",
    "                valid_mask = np.in1d(Xi, self.categories[i])\n",
    "                if not np.all(valid_mask):\n",
    "                    if self.handle_unknown == 'error':\n",
    "                        diff = np.unique(Xi[~valid_mask])\n",
    "                        msg = (\"Found unknown categories {0} in column {1}\"\n",
    "                               \" during fit\".format(diff, i))\n",
    "                        raise ValueError(msg)\n",
    "                le.classes_ = np.array(np.sort(self.categories[i]))\n",
    "\n",
    "        self.categories_ = [le.classes_ for le in self._label_encoders_]\n",
    "\n",
    "        return self\n",
    "\n",
    "    def transform(self, X):\n",
    "        \"\"\"Transform X using one-hot encoding.\n",
    "        Parameters\n",
    "        ----------\n",
    "        X : array-like, shape [n_samples, n_features]\n",
    "            The data to encode.\n",
    "        Returns\n",
    "        -------\n",
    "        X_out : sparse matrix or a 2-d array\n",
    "            Transformed input.\n",
    "        \"\"\"\n",
    "        X = check_array(X, accept_sparse='csc', dtype=np.object, copy=True)\n",
    "        n_samples, n_features = X.shape\n",
    "        X_int = np.zeros_like(X, dtype=np.int)\n",
    "        X_mask = np.ones_like(X, dtype=np.bool)\n",
    "\n",
    "        for i in range(n_features):\n",
    "            valid_mask = np.in1d(X[:, i], self.categories_[i])\n",
    "\n",
    "            if not np.all(valid_mask):\n",
    "                if self.handle_unknown == 'error':\n",
    "                    diff = np.unique(X[~valid_mask, i])\n",
    "                    msg = (\"Found unknown categories {0} in column {1}\"\n",
    "                           \" during transform\".format(diff, i))\n",
    "                    raise ValueError(msg)\n",
    "                else:\n",
    "                    # Set the problematic rows to an acceptable value and\n",
    "                    # continue `The rows are marked `X_mask` and will be\n",
    "                    # removed later.\n",
    "                    X_mask[:, i] = valid_mask\n",
    "                    X[:, i][~valid_mask] = self.categories_[i][0]\n",
    "            X_int[:, i] = self._label_encoders_[i].transform(X[:, i])\n",
    "\n",
    "        if self.encoding == 'ordinal':\n",
    "            return X_int.astype(self.dtype, copy=False)\n",
    "\n",
    "        mask = X_mask.ravel()\n",
    "        n_values = [cats.shape[0] for cats in self.categories_]\n",
    "        n_values = np.array([0] + n_values)\n",
    "        indices = np.cumsum(n_values)\n",
    "\n",
    "        column_indices = (X_int + indices[:-1]).ravel()[mask]\n",
    "        row_indices = np.repeat(np.arange(n_samples, dtype=np.int32),\n",
    "                                n_features)[mask]\n",
    "        data = np.ones(n_samples * n_features)[mask]\n",
    "\n",
    "        out = sparse.csc_matrix((data, (row_indices, column_indices)),\n",
    "                                shape=(n_samples, indices[-1]),\n",
    "                                dtype=self.dtype).tocsr()\n",
    "        if self.encoding == 'onehot-dense':\n",
    "            return out.toarray()\n",
    "        else:\n",
    "            return out"
   ]
  },
  {
   "cell_type": "markdown",
   "metadata": {},
   "source": [
    "Before going any further, there are a couple of null values in the data that we need to do data clean. Here, the feature was represented with a discrete value, I would use most common value in this category to identify missing data. I create a class named CustomImputer, which is used to fill missing values with most frequent value or some word."
   ]
  },
  {
   "cell_type": "code",
   "execution_count": 47,
   "metadata": {},
   "outputs": [],
   "source": [
    "from sklearn.base import BaseEstimator, TransformerMixin\n",
    "\n",
    "import pandas as pd\n",
    "import numpy as np\n",
    "\n",
    "class CustomImputer(BaseEstimator, TransformerMixin):\n",
    "    \n",
    "    def __init__(self, strategy='fill', filler='NA'):\n",
    "        self.strategy = strategy\n",
    "        self.filler = filler\n",
    "\n",
    "    def fit(self, X, y=None):        \n",
    "        if self.strategy == 'most_frequent':\n",
    "           self.filler = X.mode().iloc[0]\n",
    "        elif self.strategy == 'fill':\n",
    "           self.filler = self.filler\n",
    "        \n",
    "        return self\n",
    "\n",
    "    def transform(self, X, y=None):\n",
    "        return X.fillna(self.filler)"
   ]
  },
  {
   "cell_type": "code",
   "execution_count": 48,
   "metadata": {},
   "outputs": [],
   "source": [
    "car_cat = car.select_dtypes(include=['object'])\n",
    "custom_imputer = CustomImputer(strategy='fill')\n",
    "X = custom_imputer.transform(car_cat)\n",
    "car_cat = pd.DataFrame(X, columns=car_cat.columns)"
   ]
  },
  {
   "cell_type": "markdown",
   "metadata": {},
   "source": [
    "Next, I use the author method: CategoricalEncoder."
   ]
  },
  {
   "cell_type": "code",
   "execution_count": 49,
   "metadata": {},
   "outputs": [
    {
     "data": {
      "text/plain": [
       "array([[ 0.,  0.,  0., ...,  0.,  0.,  0.],\n",
       "       [ 0.,  0.,  0., ...,  0.,  0.,  0.],\n",
       "       [ 0.,  0.,  0., ...,  0.,  0.,  0.],\n",
       "       ..., \n",
       "       [ 0.,  0.,  0., ...,  0.,  0.,  0.],\n",
       "       [ 0.,  0.,  0., ...,  0.,  0.,  0.],\n",
       "       [ 0.,  0.,  0., ...,  0.,  0.,  0.]])"
      ]
     },
     "execution_count": 49,
     "metadata": {},
     "output_type": "execute_result"
    }
   ],
   "source": [
    "encoder = CategoricalEncoder(encoding='onehot-dense')\n",
    "car_cat_1hot = encoder.fit_transform(car_cat)\n",
    "car_cat_1hot"
   ]
  },
  {
   "cell_type": "markdown",
   "metadata": {},
   "source": [
    "## Custom Transformets "
   ]
  },
  {
   "cell_type": "markdown",
   "metadata": {},
   "source": [
    "In previous, I need to add the custom attribute to the training dataset. Therefore, I want to create a custom transformer class in order to add this step into the pipeline."
   ]
  },
  {
   "cell_type": "code",
   "execution_count": 50,
   "metadata": {},
   "outputs": [],
   "source": [
    "from sklearn.base import BaseEstimator, TransformerMixin\n",
    "\n",
    "import numpy as np\n",
    "\n",
    "class CombinedAttributesAdder(BaseEstimator, TransformerMixin):\n",
    "    \n",
    "    def __init__(self, version='old', vehicle_age_index=4, miles_index=13):\n",
    "        self.version = version\n",
    "        self.vehicle_age_index = vehicle_age_index\n",
    "        self.miles_index = miles_index\n",
    "        \n",
    "    def fit(self, X, y=None):\n",
    "        if self.version is 'new':\n",
    "            self.vehicle_age_index = 4\n",
    "            self.miles_index = 9\n",
    "        elif self.version is 'old':\n",
    "            self.vehicle_age_index = 4\n",
    "            self.miles_index = 13\n",
    "        else:\n",
    "            self.vehicle_age_index = self.vehicle_age_index\n",
    "            self.miles_index = self.miles_index\n",
    "            \n",
    "        return self\n",
    "\n",
    "    def transform(self, X, y=None):\n",
    "        miles_per_year = X[:, self.miles_index] / (X[:, self.vehicle_age_index] + 1)\n",
    "\n",
    "        return np.c_[X, miles_per_year]"
   ]
  },
  {
   "cell_type": "code",
   "execution_count": 51,
   "metadata": {},
   "outputs": [],
   "source": [
    "attribs_adder = CombinedAttributesAdder()\n",
    "X = attribs_adder.fit_transform(car.values)"
   ]
  },
  {
   "cell_type": "markdown",
   "metadata": {},
   "source": [
    "I check we get the right value by adding the attributes back to the training dataset."
   ]
  },
  {
   "cell_type": "code",
   "execution_count": 52,
   "metadata": {},
   "outputs": [
    {
     "data": {
      "text/html": [
       "<div>\n",
       "<style scoped>\n",
       "    .dataframe tbody tr th:only-of-type {\n",
       "        vertical-align: middle;\n",
       "    }\n",
       "\n",
       "    .dataframe tbody tr th {\n",
       "        vertical-align: top;\n",
       "    }\n",
       "\n",
       "    .dataframe thead th {\n",
       "        text-align: right;\n",
       "    }\n",
       "</style>\n",
       "<table border=\"1\" class=\"dataframe\">\n",
       "  <thead>\n",
       "    <tr style=\"text-align: right;\">\n",
       "      <th></th>\n",
       "      <th>RefId</th>\n",
       "      <th>PurchDate</th>\n",
       "      <th>Auction</th>\n",
       "      <th>VehYear</th>\n",
       "      <th>VehicleAge</th>\n",
       "      <th>Make</th>\n",
       "      <th>Model</th>\n",
       "      <th>Trim</th>\n",
       "      <th>SubModel</th>\n",
       "      <th>Color</th>\n",
       "      <th>...</th>\n",
       "      <th>MMRCurrentRetailCleanPrice</th>\n",
       "      <th>PRIMEUNIT</th>\n",
       "      <th>AUCGUART</th>\n",
       "      <th>BYRNO</th>\n",
       "      <th>VNZIP1</th>\n",
       "      <th>VNST</th>\n",
       "      <th>VehBCost</th>\n",
       "      <th>IsOnlineSale</th>\n",
       "      <th>WarrantyCost</th>\n",
       "      <th>miles_per_year</th>\n",
       "    </tr>\n",
       "  </thead>\n",
       "  <tbody>\n",
       "    <tr>\n",
       "      <th>0</th>\n",
       "      <td>1</td>\n",
       "      <td>12/7/2009</td>\n",
       "      <td>ADESA</td>\n",
       "      <td>2006</td>\n",
       "      <td>3</td>\n",
       "      <td>MAZDA</td>\n",
       "      <td>MAZDA3</td>\n",
       "      <td>i</td>\n",
       "      <td>4D SEDAN I</td>\n",
       "      <td>RED</td>\n",
       "      <td>...</td>\n",
       "      <td>12409</td>\n",
       "      <td>NaN</td>\n",
       "      <td>NaN</td>\n",
       "      <td>21973</td>\n",
       "      <td>33619</td>\n",
       "      <td>FL</td>\n",
       "      <td>7100</td>\n",
       "      <td>0</td>\n",
       "      <td>1113</td>\n",
       "      <td>22261.5</td>\n",
       "    </tr>\n",
       "    <tr>\n",
       "      <th>1</th>\n",
       "      <td>2</td>\n",
       "      <td>12/7/2009</td>\n",
       "      <td>ADESA</td>\n",
       "      <td>2004</td>\n",
       "      <td>5</td>\n",
       "      <td>DODGE</td>\n",
       "      <td>1500 RAM PICKUP 2WD</td>\n",
       "      <td>ST</td>\n",
       "      <td>QUAD CAB 4.7L SLT</td>\n",
       "      <td>WHITE</td>\n",
       "      <td>...</td>\n",
       "      <td>12791</td>\n",
       "      <td>NaN</td>\n",
       "      <td>NaN</td>\n",
       "      <td>19638</td>\n",
       "      <td>33619</td>\n",
       "      <td>FL</td>\n",
       "      <td>7600</td>\n",
       "      <td>0</td>\n",
       "      <td>1053</td>\n",
       "      <td>15598.8</td>\n",
       "    </tr>\n",
       "    <tr>\n",
       "      <th>2</th>\n",
       "      <td>3</td>\n",
       "      <td>12/7/2009</td>\n",
       "      <td>ADESA</td>\n",
       "      <td>2005</td>\n",
       "      <td>4</td>\n",
       "      <td>DODGE</td>\n",
       "      <td>STRATUS V6</td>\n",
       "      <td>SXT</td>\n",
       "      <td>4D SEDAN SXT FFV</td>\n",
       "      <td>MAROON</td>\n",
       "      <td>...</td>\n",
       "      <td>8702</td>\n",
       "      <td>NaN</td>\n",
       "      <td>NaN</td>\n",
       "      <td>19638</td>\n",
       "      <td>33619</td>\n",
       "      <td>FL</td>\n",
       "      <td>4900</td>\n",
       "      <td>0</td>\n",
       "      <td>1389</td>\n",
       "      <td>14761.4</td>\n",
       "    </tr>\n",
       "    <tr>\n",
       "      <th>3</th>\n",
       "      <td>4</td>\n",
       "      <td>12/7/2009</td>\n",
       "      <td>ADESA</td>\n",
       "      <td>2004</td>\n",
       "      <td>5</td>\n",
       "      <td>DODGE</td>\n",
       "      <td>NEON</td>\n",
       "      <td>SXT</td>\n",
       "      <td>4D SEDAN</td>\n",
       "      <td>SILVER</td>\n",
       "      <td>...</td>\n",
       "      <td>5518</td>\n",
       "      <td>NaN</td>\n",
       "      <td>NaN</td>\n",
       "      <td>19638</td>\n",
       "      <td>33619</td>\n",
       "      <td>FL</td>\n",
       "      <td>4100</td>\n",
       "      <td>0</td>\n",
       "      <td>630</td>\n",
       "      <td>10936.2</td>\n",
       "    </tr>\n",
       "    <tr>\n",
       "      <th>4</th>\n",
       "      <td>5</td>\n",
       "      <td>12/7/2009</td>\n",
       "      <td>ADESA</td>\n",
       "      <td>2005</td>\n",
       "      <td>4</td>\n",
       "      <td>FORD</td>\n",
       "      <td>FOCUS</td>\n",
       "      <td>ZX3</td>\n",
       "      <td>2D COUPE ZX3</td>\n",
       "      <td>SILVER</td>\n",
       "      <td>...</td>\n",
       "      <td>7911</td>\n",
       "      <td>NaN</td>\n",
       "      <td>NaN</td>\n",
       "      <td>19638</td>\n",
       "      <td>33619</td>\n",
       "      <td>FL</td>\n",
       "      <td>4000</td>\n",
       "      <td>0</td>\n",
       "      <td>1020</td>\n",
       "      <td>13873.4</td>\n",
       "    </tr>\n",
       "  </tbody>\n",
       "</table>\n",
       "<p>5 rows × 34 columns</p>\n",
       "</div>"
      ],
      "text/plain": [
       "  RefId  PurchDate Auction VehYear VehicleAge   Make                Model  \\\n",
       "0     1  12/7/2009   ADESA    2006          3  MAZDA               MAZDA3   \n",
       "1     2  12/7/2009   ADESA    2004          5  DODGE  1500 RAM PICKUP 2WD   \n",
       "2     3  12/7/2009   ADESA    2005          4  DODGE           STRATUS V6   \n",
       "3     4  12/7/2009   ADESA    2004          5  DODGE                 NEON   \n",
       "4     5  12/7/2009   ADESA    2005          4   FORD                FOCUS   \n",
       "\n",
       "  Trim           SubModel   Color      ...       MMRCurrentRetailCleanPrice  \\\n",
       "0    i         4D SEDAN I     RED      ...                            12409   \n",
       "1   ST  QUAD CAB 4.7L SLT   WHITE      ...                            12791   \n",
       "2  SXT   4D SEDAN SXT FFV  MAROON      ...                             8702   \n",
       "3  SXT           4D SEDAN  SILVER      ...                             5518   \n",
       "4  ZX3       2D COUPE ZX3  SILVER      ...                             7911   \n",
       "\n",
       "  PRIMEUNIT AUCGUART  BYRNO VNZIP1 VNST VehBCost IsOnlineSale WarrantyCost  \\\n",
       "0       NaN      NaN  21973  33619   FL     7100            0         1113   \n",
       "1       NaN      NaN  19638  33619   FL     7600            0         1053   \n",
       "2       NaN      NaN  19638  33619   FL     4900            0         1389   \n",
       "3       NaN      NaN  19638  33619   FL     4100            0          630   \n",
       "4       NaN      NaN  19638  33619   FL     4000            0         1020   \n",
       "\n",
       "  miles_per_year  \n",
       "0        22261.5  \n",
       "1        15598.8  \n",
       "2        14761.4  \n",
       "3        10936.2  \n",
       "4        13873.4  \n",
       "\n",
       "[5 rows x 34 columns]"
      ]
     },
     "execution_count": 52,
     "metadata": {},
     "output_type": "execute_result"
    }
   ],
   "source": [
    "car_extra = pd.DataFrame(X, columns=list(car.columns)+['miles_per_year'])\n",
    "car_extra.head()"
   ]
  },
  {
   "cell_type": "markdown",
   "metadata": {},
   "source": [
    "## Feature Scaling"
   ]
  },
  {
   "cell_type": "markdown",
   "metadata": {},
   "source": [
    "Scikit-Learn provides a transformer called StandardScaler for standardization."
   ]
  },
  {
   "cell_type": "markdown",
   "metadata": {},
   "source": [
    "## Transformation Pipelines"
   ]
  },
  {
   "cell_type": "markdown",
   "metadata": {},
   "source": [
    "Scikit-Learn provides the Pipeline calss to help with such sequences of transformations. Now let's build a pipeline for preprocessing the numerical attributes."
   ]
  },
  {
   "cell_type": "code",
   "execution_count": 53,
   "metadata": {},
   "outputs": [],
   "source": [
    "from sklearn.pipeline import Pipeline\n",
    "from sklearn.preprocessing import StandardScaler\n",
    "\n",
    "num_pipeline = Pipeline([\n",
    "        ('imputer', Imputer(strategy='median')),\n",
    "        ('attribs_adder', CombinedAttributesAdder()),\n",
    "        ('std_scaler', StandardScaler()),\n",
    "    ])\n",
    "car_num_tr = num_pipeline.fit_transform(car_num)"
   ]
  },
  {
   "cell_type": "markdown",
   "metadata": {},
   "source": [
    "Remember I need select value from Pandas DataFrame because Scikit-learn cannot handle it. I manually extract the numerical columns into a NumPy array, but I also write a transformer class to do it. "
   ]
  },
  {
   "cell_type": "code",
   "execution_count": 54,
   "metadata": {},
   "outputs": [],
   "source": [
    "from sklearn.base import BaseEstimator, TransformerMixin\n",
    "\n",
    "# Create a class to select numerical or categorical columns \n",
    "# since Scikit-Learn doesn't handle DataFrames yet\n",
    "class DataFrameSelector(BaseEstimator, TransformerMixin):\n",
    "    \n",
    "    def __init__(self, attribute_names):\n",
    "        self.attribute_names = attribute_names\n",
    "    \n",
    "    def fit(self, X, y=None):\n",
    "        return self\n",
    "    \n",
    "    def transform(self, X):\n",
    "        return X[self.attribute_names].values"
   ]
  },
  {
   "cell_type": "markdown",
   "metadata": {},
   "source": [
    "Now let's join all these components into a big pipeline that will preprocess both the numerical and the categorical features."
   ]
  },
  {
   "cell_type": "code",
   "execution_count": 55,
   "metadata": {},
   "outputs": [],
   "source": [
    "num_attribs = list(car_num)\n",
    "cat_attribs = list(car_cat)\n",
    "num_pipeline = Pipeline([\n",
    "        ('selector', DataFrameSelector(num_attribs)),\n",
    "        ('imputer', Imputer(strategy='median')),\n",
    "        ('attribs_adder', CombinedAttributesAdder()),\n",
    "        ('std_scaler', StandardScaler()),\n",
    "    ])\n",
    "cat_pipeline = Pipeline([\n",
    "        ('custom_imputer', CustomImputer(strategy='fill')),\n",
    "        ('selector', DataFrameSelector(cat_attribs)),\n",
    "        ('encoder', CategoricalEncoder(encoding='onehot-dense')),\n",
    "    ])"
   ]
  },
  {
   "cell_type": "markdown",
   "metadata": {},
   "source": [
    "Next, I want to join there two pipelines into a single pipeline. Here, I use Scikit-Learn's FeatureUnion Class"
   ]
  },
  {
   "cell_type": "code",
   "execution_count": 56,
   "metadata": {},
   "outputs": [],
   "source": [
    "from sklearn.pipeline import FeatureUnion\n",
    "\n",
    "full_pipeline = FeatureUnion(transformer_list=[\n",
    "        (\"num_pipeline\", num_pipeline),\n",
    "        (\"cat_pipeline\", cat_pipeline),\n",
    "    ])"
   ]
  },
  {
   "cell_type": "markdown",
   "metadata": {},
   "source": [
    "In the end, I run the whole pipeline easily."
   ]
  },
  {
   "cell_type": "code",
   "execution_count": 57,
   "metadata": {},
   "outputs": [
    {
     "data": {
      "text/plain": [
       "(72983, 2725)"
      ]
     },
     "execution_count": 57,
     "metadata": {},
     "output_type": "execute_result"
    }
   ],
   "source": [
    "car_prepared = full_pipeline.fit_transform(car)\n",
    "car_prepared.shape"
   ]
  },
  {
   "cell_type": "markdown",
   "metadata": {},
   "source": [
    "# 6. Select and Train a Model "
   ]
  },
  {
   "cell_type": "markdown",
   "metadata": {},
   "source": [
    "Now, let's use the pipeline to prepare data and use an algorithm to train a model."
   ]
  },
  {
   "cell_type": "code",
   "execution_count": 58,
   "metadata": {},
   "outputs": [],
   "source": [
    "train_set = loading.load_train_car_data()\n",
    "train_set_labels = train_set['IsBadBuy'].copy()\n",
    "train_set = train_set.drop(['IsBadBuy'], axis=1)\n",
    "train_set_prepared = full_pipeline.fit_transform(train_set)"
   ]
  },
  {
   "cell_type": "markdown",
   "metadata": {},
   "source": [
    "## Training and Evaluating on the Training Set"
   ]
  },
  {
   "cell_type": "markdown",
   "metadata": {},
   "source": [
    "Let's train a model with logistic regression algorithm."
   ]
  },
  {
   "cell_type": "code",
   "execution_count": 59,
   "metadata": {},
   "outputs": [
    {
     "data": {
      "text/plain": [
       "LogisticRegression(C=1.0, class_weight=None, dual=False, fit_intercept=True,\n",
       "          intercept_scaling=1, max_iter=100, multi_class='ovr', n_jobs=1,\n",
       "          penalty='l2', random_state=None, solver='liblinear', tol=0.0001,\n",
       "          verbose=0, warm_start=False)"
      ]
     },
     "execution_count": 59,
     "metadata": {},
     "output_type": "execute_result"
    }
   ],
   "source": [
    "from sklearn.linear_model import LogisticRegression\n",
    "\n",
    "log_reg = LogisticRegression()\n",
    "log_reg.fit(train_set_prepared, train_set_labels)"
   ]
  },
  {
   "cell_type": "markdown",
   "metadata": {},
   "source": [
    "## Better Evaluation Using Cross-Validation"
   ]
  },
  {
   "cell_type": "markdown",
   "metadata": {},
   "source": [
    "Scikit-learn provide cross_val_score() can easily handle cross-validation."
   ]
  },
  {
   "cell_type": "code",
   "execution_count": 60,
   "metadata": {},
   "outputs": [
    {
     "data": {
      "text/plain": [
       "array([ 0.89032744,  0.8834007 ,  0.88305015,  0.87798027,  0.89058646])"
      ]
     },
     "execution_count": 60,
     "metadata": {},
     "output_type": "execute_result"
    }
   ],
   "source": [
    "from sklearn.model_selection import cross_val_score\n",
    "\n",
    "cross_val_score(log_reg, train_set_prepared, train_set_labels, \n",
    "                cv=5, scoring='accuracy')"
   ]
  },
  {
   "cell_type": "markdown",
   "metadata": {},
   "source": [
    "In the classification task, it has a much better way to evaluate the performance of a classifier is to look at the confusion matrix."
   ]
  },
  {
   "cell_type": "code",
   "execution_count": 61,
   "metadata": {},
   "outputs": [
    {
     "data": {
      "text/plain": [
       "array([[62220,  1787],\n",
       "       [ 6601,  2375]])"
      ]
     },
     "execution_count": 61,
     "metadata": {},
     "output_type": "execute_result"
    }
   ],
   "source": [
    "from sklearn.model_selection import cross_val_predict\n",
    "from sklearn.metrics import confusion_matrix\n",
    "\n",
    "train_set_predictions = cross_val_predict(log_reg, \n",
    "                                          train_set_prepared, \n",
    "                                          train_set_labels, cv=5)\n",
    "confusion_matrix(train_set_labels, train_set_predictions)"
   ]
  },
  {
   "cell_type": "markdown",
   "metadata": {},
   "source": [
    "Thus, I get the precision of the classifier."
   ]
  },
  {
   "cell_type": "code",
   "execution_count": 62,
   "metadata": {},
   "outputs": [
    {
     "data": {
      "text/plain": [
       "0.57063911580970683"
      ]
     },
     "execution_count": 62,
     "metadata": {},
     "output_type": "execute_result"
    }
   ],
   "source": [
    "from sklearn.metrics import precision_score\n",
    "\n",
    "precision_score(train_set_labels, train_set_predictions)"
   ]
  },
  {
   "cell_type": "markdown",
   "metadata": {},
   "source": [
    "Also, I get the recall of the classifier."
   ]
  },
  {
   "cell_type": "code",
   "execution_count": 63,
   "metadata": {},
   "outputs": [
    {
     "data": {
      "text/plain": [
       "0.26459447415329768"
      ]
     },
     "execution_count": 63,
     "metadata": {},
     "output_type": "execute_result"
    }
   ],
   "source": [
    "from sklearn.metrics import recall_score\n",
    "\n",
    "recall_score(train_set_labels, train_set_predictions)"
   ]
  },
  {
   "cell_type": "markdown",
   "metadata": {},
   "source": [
    "Finally, I compute the F1 score."
   ]
  },
  {
   "cell_type": "code",
   "execution_count": 64,
   "metadata": {},
   "outputs": [
    {
     "data": {
      "text/plain": [
       "0.36154665854772411"
      ]
     },
     "execution_count": 64,
     "metadata": {},
     "output_type": "execute_result"
    }
   ],
   "source": [
    "from sklearn.metrics import f1_score\n",
    "\n",
    "f1_score(train_set_labels, train_set_predictions)"
   ]
  },
  {
   "cell_type": "markdown",
   "metadata": {},
   "source": [
    "Alternately, I can evaluate the performance of a classifier using ROC."
   ]
  },
  {
   "cell_type": "code",
   "execution_count": 65,
   "metadata": {},
   "outputs": [],
   "source": [
    "train_set_scores = cross_val_predict(log_reg, \n",
    "                                     train_set_prepared, \n",
    "                                     train_set_labels, \n",
    "                                     cv=5,\n",
    "                                     method='decision_function')"
   ]
  },
  {
   "cell_type": "markdown",
   "metadata": {},
   "source": [
    "Now, let's get ROC curve and plot it."
   ]
  },
  {
   "cell_type": "code",
   "execution_count": 66,
   "metadata": {},
   "outputs": [
    {
     "name": "stdout",
     "output_type": "stream",
     "text": [
      "Saving figure roc_before_modify_feature_before_tune\n"
     ]
    },
    {
     "data": {
      "image/png": "[encoded data removed]",
      "text/plain": [
       "<matplotlib.figure.Figure at 0x7efc40d843c8>"
      ]
     },
     "metadata": {},
     "output_type": "display_data"
    }
   ],
   "source": [
    "from sklearn.metrics import roc_curve\n",
    "\n",
    "fpr, tpr, thresholds = roc_curve(train_set_labels, train_set_scores)\n",
    "plotting.plot_roc_curve(fpr, tpr, 'Logistic Regression')\n",
    "plotting.save_fig('roc_before_modify_feature_before_tune')\n",
    "plt.show()"
   ]
  },
  {
   "cell_type": "markdown",
   "metadata": {},
   "source": [
    "Finally, I get the AUC of the classifier."
   ]
  },
  {
   "cell_type": "code",
   "execution_count": 67,
   "metadata": {},
   "outputs": [
    {
     "data": {
      "text/plain": [
       "0.7126925448801319"
      ]
     },
     "execution_count": 67,
     "metadata": {},
     "output_type": "execute_result"
    }
   ],
   "source": [
    "from sklearn.metrics import roc_auc_score\n",
    "\n",
    "roc_auc_score(train_set_labels, train_set_scores)"
   ]
  },
  {
   "cell_type": "markdown",
   "metadata": {},
   "source": [
    "# 7. Fine-Tune Your Model"
   ]
  },
  {
   "cell_type": "markdown",
   "metadata": {},
   "source": [
    "From the last section, my result is really bad. But, do not worry about it. Let first search the better hyperparameter for that. Second, I evaluate the importance of the features. Therefore, I try to delete some un-important features and redefine text and categorical attributes"
   ]
  },
  {
   "cell_type": "code",
   "execution_count": 68,
   "metadata": {},
   "outputs": [],
   "source": [
    "train_set = loading.load_train_car_data()\n",
    "train_set_labels = train_set['IsBadBuy'].copy()\n",
    "train_set = train_set.drop(['IsBadBuy'], axis=1)\n",
    "train_set_prepared = full_pipeline.transform(train_set)"
   ]
  },
  {
   "cell_type": "markdown",
   "metadata": {},
   "source": [
    "## Grid Search"
   ]
  },
  {
   "cell_type": "markdown",
   "metadata": {},
   "source": [
    "I do not need to find the hyperparameters manually. Instead, I should get Scikit-Learn's GridSearchCV to search."
   ]
  },
  {
   "cell_type": "code",
   "execution_count": 69,
   "metadata": {},
   "outputs": [
    {
     "data": {
      "text/plain": [
       "GridSearchCV(cv=5, error_score='raise',\n",
       "       estimator=LogisticRegression(C=1.0, class_weight=None, dual=False, fit_intercept=True,\n",
       "          intercept_scaling=1, max_iter=100, multi_class='ovr', n_jobs=1,\n",
       "          penalty='l2', random_state=None, solver='liblinear', tol=0.0001,\n",
       "          verbose=0, warm_start=False),\n",
       "       fit_params=None, iid=True, n_jobs=1,\n",
       "       param_grid=[{'max_iter': [150, 200], 'penalty': ['l1', 'l2'], 'C': [0.1, 0.2]}],\n",
       "       pre_dispatch=4, refit=True, return_train_score='warn', scoring='f1',\n",
       "       verbose=0)"
      ]
     },
     "execution_count": 69,
     "metadata": {},
     "output_type": "execute_result"
    }
   ],
   "source": [
    "from sklearn.model_selection import GridSearchCV\n",
    "\n",
    "param_grid = [{'max_iter': [150, 200],\n",
    "               'penalty': ['l1', 'l2'],\n",
    "               'C': [0.1, 0.2]}]\n",
    "log_reg = LogisticRegression()\n",
    "grid_search = GridSearchCV(log_reg, param_grid, cv=5,\n",
    "                           scoring='f1',\n",
    "                           pre_dispatch=4)\n",
    "grid_search.fit(train_set_prepared, train_set_labels)"
   ]
  },
  {
   "cell_type": "markdown",
   "metadata": {},
   "source": [
    "I check the best hyperparameters like this."
   ]
  },
  {
   "cell_type": "code",
   "execution_count": 70,
   "metadata": {},
   "outputs": [
    {
     "data": {
      "text/plain": [
       "{'C': 0.1, 'max_iter': 150, 'penalty': 'l1'}"
      ]
     },
     "execution_count": 70,
     "metadata": {},
     "output_type": "execute_result"
    }
   ],
   "source": [
    "grid_search.best_params_"
   ]
  },
  {
   "cell_type": "markdown",
   "metadata": {},
   "source": [
    "I can see the best estimator like this:"
   ]
  },
  {
   "cell_type": "code",
   "execution_count": 71,
   "metadata": {},
   "outputs": [
    {
     "data": {
      "text/plain": [
       "LogisticRegression(C=0.1, class_weight=None, dual=False, fit_intercept=True,\n",
       "          intercept_scaling=1, max_iter=150, multi_class='ovr', n_jobs=1,\n",
       "          penalty='l1', random_state=None, solver='liblinear', tol=0.0001,\n",
       "          verbose=0, warm_start=False)"
      ]
     },
     "execution_count": 71,
     "metadata": {},
     "output_type": "execute_result"
    }
   ],
   "source": [
    "grid_search.best_estimator_"
   ]
  },
  {
   "cell_type": "markdown",
   "metadata": {},
   "source": [
    "And of course the evaluation scores are also available."
   ]
  },
  {
   "cell_type": "code",
   "execution_count": 72,
   "metadata": {},
   "outputs": [
    {
     "name": "stdout",
     "output_type": "stream",
     "text": [
      "0.350356023913 {'C': 0.1, 'max_iter': 150, 'penalty': 'l1'}\n",
      "0.350073693012 {'C': 0.1, 'max_iter': 150, 'penalty': 'l2'}\n",
      "0.350353355899 {'C': 0.1, 'max_iter': 200, 'penalty': 'l1'}\n",
      "0.350073693012 {'C': 0.1, 'max_iter': 200, 'penalty': 'l2'}\n",
      "0.350099611952 {'C': 0.2, 'max_iter': 150, 'penalty': 'l1'}\n",
      "0.349126934224 {'C': 0.2, 'max_iter': 150, 'penalty': 'l2'}\n",
      "0.349935699865 {'C': 0.2, 'max_iter': 200, 'penalty': 'l1'}\n",
      "0.349126934224 {'C': 0.2, 'max_iter': 200, 'penalty': 'l2'}\n"
     ]
    }
   ],
   "source": [
    "from __future__ import print_function\n",
    "\n",
    "cvres = grid_search.cv_results_\n",
    "\n",
    "for mean_score, params in zip(cvres['mean_test_score'], cvres['params']):\n",
    "    print(mean_score, params)"
   ]
  },
  {
   "cell_type": "markdown",
   "metadata": {},
   "source": [
    "## Randomized Search"
   ]
  },
  {
   "cell_type": "markdown",
   "metadata": {},
   "source": [
    "When hyperparameter search space is large, I often use RandomizedSearchCV."
   ]
  },
  {
   "cell_type": "markdown",
   "metadata": {},
   "source": [
    "## Ensemble Methods"
   ]
  },
  {
   "cell_type": "markdown",
   "metadata": {},
   "source": [
    "In the future work, I will try ensemble methods."
   ]
  },
  {
   "cell_type": "markdown",
   "metadata": {},
   "source": [
    "## Analyze the Best Models and Their Errors"
   ]
  },
  {
   "cell_type": "markdown",
   "metadata": {},
   "source": [
    "The logistic regression can indicate the relative importance of each attribute for making accurate predictions. So, let's try this."
   ]
  },
  {
   "cell_type": "code",
   "execution_count": 73,
   "metadata": {},
   "outputs": [
    {
     "data": {
      "text/plain": [
       "[[0.05296131253112603,\n",
       "  0.22721492430372478,\n",
       "  0.6546312353361732,\n",
       "  -0.25130939004591357,\n",
       "  0.1171485586521415,\n",
       "  -0.3132294593693501,\n",
       "  0.0,\n",
       "  0.38468036837700686,\n",
       "  0.0,\n",
       "  0.29297532831856005,\n",
       "  0.20942853167257655,\n",
       "  -0.24667602546027093,\n",
       "  -0.19829751579512275,\n",
       "  -0.14900700620728763,\n",
       "  -0.06960978191180815,\n",
       "  -0.25324700906225134,\n",
       "  -0.041061296449173834,\n",
       "  0.08112558515483562,\n",
       "  0.0,\n",
       "  0.0,\n",
       "  0.0,\n",
       "  0.0,\n",
       "  0.0,\n",
       "  0.0,\n",
       "  0.0,\n",
       "  0.0,\n",
       "  0.0,\n",
       "  0.0,\n",
       "  0.0,\n",
       "  0.0,\n",
       "  0.0,\n",
       "  0.0,\n",
       "  0.0,\n",
       "  0.0,\n",
       "  0.0,\n",
       "  0.0,\n",
       "  0.0,\n",
       "  0.0,\n",
       "  0.0,\n",
       "  0.0,\n",
       "  -1.7770294881023059,\n",
       "  0.0,\n",
       "  0.0,\n",
       "  0.0,\n",
       "  0.0,\n",
       "  0.0,\n",
       "  0.0,\n",
       "  -0.06943522584445425,\n",
       "  0.0,\n",
       "  0.0,\n",
       "  0.0,\n",
       "  0.0,\n",
       "  0.0,\n",
       "  -0.19761290717745608,\n",
       "  0.0,\n",
       "  0.0,\n",
       "  0.0,\n",
       "  0.0,\n",
       "  0.0,\n",
       "  0.0,\n",
       "  0.0,\n",
       "  0.0,\n",
       "  0.0,\n",
       "  0.0,\n",
       "  0.0,\n",
       "  0.0,\n",
       "  0.0,\n",
       "  0.0,\n",
       "  0.0,\n",
       "  0.0,\n",
       "  0.0,\n",
       "  0.0,\n",
       "  0.0,\n",
       "  0.0,\n",
       "  0.0,\n",
       "  0.0,\n",
       "  0.0,\n",
       "  0.0,\n",
       "  0.0,\n",
       "  0.0,\n",
       "  0.0,\n",
       "  0.0,\n",
       "  0.0,\n",
       "  0.0,\n",
       "  -0.057590960762398405,\n",
       "  0.0,\n",
       "  0.11305990794898836,\n",
       "  0.0,\n",
       "  -0.04518061041067633,\n",
       "  0.0,\n",
       "  0.0,\n",
       "  0.0,\n",
       "  0.0,\n",
       "  0.0,\n",
       "  0.0,\n",
       "  0.0,\n",
       "  0.0,\n",
       "  0.0,\n",
       "  0.03672838428361486,\n",
       "  0.0,\n",
       "  0.0,\n",
       "  0.0,\n",
       "  0.0,\n",
       "  0.0,\n",
       "  0.0,\n",
       "  0.0,\n",
       "  0.0,\n",
       "  0.0,\n",
       "  0.0,\n",
       "  0.0,\n",
       "  0.0,\n",
       "  0.0,\n",
       "  0.0,\n",
       "  0.0,\n",
       "  0.0,\n",
       "  0.0,\n",
       "  0.0,\n",
       "  0.0,\n",
       "  0.0,\n",
       "  0.0,\n",
       "  0.0,\n",
       "  0.21291319007089488,\n",
       "  0.0,\n",
       "  0.0,\n",
       "  0.0,\n",
       "  0.25778886804491746,\n",
       "  0.0,\n",
       "  0.0,\n",
       "  0.0,\n",
       "  0.0,\n",
       "  0.0,\n",
       "  0.0,\n",
       "  0.19050033321560766,\n",
       "  0.0,\n",
       "  0.0,\n",
       "  0.0,\n",
       "  0.0,\n",
       "  0.0,\n",
       "  0.0,\n",
       "  0.0,\n",
       "  0.0,\n",
       "  0.0,\n",
       "  0.0,\n",
       "  0.0,\n",
       "  0.0,\n",
       "  0.22174212157044343,\n",
       "  0.0,\n",
       "  0.0,\n",
       "  0.0,\n",
       "  0.0,\n",
       "  0.0,\n",
       "  -0.881511533093197,\n",
       "  0.0,\n",
       "  0.0,\n",
       "  0.0,\n",
       "  0.0,\n",
       "  0.0,\n",
       "  0.0,\n",
       "  0.0,\n",
       "  0.0,\n",
       "  0.0,\n",
       "  0.0,\n",
       "  0.0,\n",
       "  0.0,\n",
       "  0.0,\n",
       "  0.0,\n",
       "  0.22113708385492747,\n",
       "  0.0,\n",
       "  0.0,\n",
       "  0.0,\n",
       "  0.0,\n",
       "  0.0,\n",
       "  0.0,\n",
       "  0.0,\n",
       "  0.0,\n",
       "  0.0,\n",
       "  0.0,\n",
       "  0.0,\n",
       "  0.0,\n",
       "  0.0,\n",
       "  0.0,\n",
       "  0.0,\n",
       "  0.0,\n",
       "  0.0,\n",
       "  0.09307278126539797,\n",
       "  0.0,\n",
       "  0.2441924469576367,\n",
       "  0.0,\n",
       "  0.24168528258576388,\n",
       "  0.0,\n",
       "  0.0,\n",
       "  0.0,\n",
       "  0.0,\n",
       "  0.0,\n",
       "  0.0,\n",
       "  0.0,\n",
       "  0.0,\n",
       "  0.0,\n",
       "  -0.2546274291439411,\n",
       "  0.0,\n",
       "  0.0,\n",
       "  0.0,\n",
       "  0.0,\n",
       "  0.0,\n",
       "  0.0,\n",
       "  0.0,\n",
       "  0.0,\n",
       "  0.0,\n",
       "  0.0,\n",
       "  0.0,\n",
       "  0.0,\n",
       "  0.0,\n",
       "  0.0,\n",
       "  0.0,\n",
       "  0.0,\n",
       "  0.0,\n",
       "  0.0,\n",
       "  0.0,\n",
       "  0.0,\n",
       "  0.0,\n",
       "  0.0,\n",
       "  -0.0665875266568716,\n",
       "  0.0,\n",
       "  0.0,\n",
       "  0.0,\n",
       "  0.0,\n",
       "  0.0,\n",
       "  0.0,\n",
       "  0.0,\n",
       "  0.0,\n",
       "  0.0,\n",
       "  0.0,\n",
       "  0.0,\n",
       "  0.0,\n",
       "  0.0,\n",
       "  0.0,\n",
       "  0.0,\n",
       "  0.0,\n",
       "  0.0,\n",
       "  0.0,\n",
       "  0.0,\n",
       "  0.0,\n",
       "  0.0,\n",
       "  0.0,\n",
       "  0.0,\n",
       "  0.0,\n",
       "  0.0,\n",
       "  -0.3672658394185251,\n",
       "  0.0,\n",
       "  0.0,\n",
       "  0.0,\n",
       "  0.0,\n",
       "  0.0,\n",
       "  0.0,\n",
       "  0.0,\n",
       "  0.0,\n",
       "  0.0,\n",
       "  0.0,\n",
       "  0.0,\n",
       "  0.0,\n",
       "  0.0,\n",
       "  0.0,\n",
       "  0.0,\n",
       "  0.0,\n",
       "  0.0,\n",
       "  0.0,\n",
       "  0.0,\n",
       "  0.0,\n",
       "  0.0,\n",
       "  0.0,\n",
       "  0.0,\n",
       "  0.0,\n",
       "  0.0,\n",
       "  0.0,\n",
       "  -0.13364302275430337,\n",
       "  -0.026771424721334352,\n",
       "  0.0,\n",
       "  0.0,\n",
       "  0.0,\n",
       "  0.0,\n",
       "  0.0,\n",
       "  -0.2502063463054714,\n",
       "  0.0,\n",
       "  0.0,\n",
       "  -0.06835928675234607,\n",
       "  0.0,\n",
       "  0.0,\n",
       "  0.0,\n",
       "  0.0,\n",
       "  0.0,\n",
       "  0.0,\n",
       "  0.0,\n",
       "  0.0,\n",
       "  0.0,\n",
       "  0.0,\n",
       "  0.0,\n",
       "  0.0,\n",
       "  0.0,\n",
       "  0.0,\n",
       "  0.0,\n",
       "  0.0,\n",
       "  0.0,\n",
       "  0.0,\n",
       "  0.0,\n",
       "  0.0,\n",
       "  0.0,\n",
       "  0.0,\n",
       "  0.0,\n",
       "  0.0,\n",
       "  0.0,\n",
       "  0.0,\n",
       "  0.0,\n",
       "  0.0,\n",
       "  0.0,\n",
       "  0.0,\n",
       "  0.0,\n",
       "  0.0,\n",
       "  0.0,\n",
       "  0.0,\n",
       "  0.0,\n",
       "  0.0,\n",
       "  0.0,\n",
       "  0.0,\n",
       "  0.0,\n",
       "  -0.0332091109301291,\n",
       "  0.0,\n",
       "  0.0,\n",
       "  0.0,\n",
       "  0.0,\n",
       "  0.0,\n",
       "  0.0,\n",
       "  0.0,\n",
       "  -0.31908315731326,\n",
       "  0.0,\n",
       "  0.0,\n",
       "  0.0,\n",
       "  0.0,\n",
       "  0.0,\n",
       "  0.0,\n",
       "  0.0,\n",
       "  0.0,\n",
       "  0.0,\n",
       "  0.0,\n",
       "  0.0,\n",
       "  0.0,\n",
       "  0.0,\n",
       "  0.0,\n",
       "  0.0,\n",
       "  0.0,\n",
       "  0.0,\n",
       "  0.0,\n",
       "  0.0,\n",
       "  0.0,\n",
       "  0.0,\n",
       "  0.0,\n",
       "  0.0,\n",
       "  0.0,\n",
       "  0.0,\n",
       "  0.0,\n",
       "  0.0,\n",
       "  0.0,\n",
       "  0.0,\n",
       "  0.0,\n",
       "  0.0,\n",
       "  0.0,\n",
       "  0.0,\n",
       "  0.0,\n",
       "  0.0,\n",
       "  0.0,\n",
       "  0.0,\n",
       "  0.0,\n",
       "  0.0,\n",
       "  0.0,\n",
       "  0.0,\n",
       "  0.0,\n",
       "  -0.4390287607491041,\n",
       "  0.0,\n",
       "  0.0,\n",
       "  0.0,\n",
       "  0.0,\n",
       "  0.0,\n",
       "  0.0,\n",
       "  -0.05723250496468894,\n",
       "  0.0,\n",
       "  0.0,\n",
       "  0.0,\n",
       "  0.0,\n",
       "  0.0,\n",
       "  0.0,\n",
       "  0.0,\n",
       "  0.0,\n",
       "  0.0,\n",
       "  0.0,\n",
       "  0.0,\n",
       "  0.07144275366916913,\n",
       "  0.0,\n",
       "  0.0,\n",
       "  0.0,\n",
       "  0.0,\n",
       "  0.0,\n",
       "  0.0,\n",
       "  0.0,\n",
       "  0.0,\n",
       "  0.0,\n",
       "  0.0,\n",
       "  0.0,\n",
       "  0.0,\n",
       "  0.0,\n",
       "  0.0,\n",
       "  0.0,\n",
       "  0.0,\n",
       "  0.0,\n",
       "  0.0,\n",
       "  0.0,\n",
       "  0.0,\n",
       "  0.0,\n",
       "  0.0,\n",
       "  0.0,\n",
       "  0.0,\n",
       "  0.0,\n",
       "  0.0,\n",
       "  0.0,\n",
       "  0.0,\n",
       "  0.0,\n",
       "  0.0,\n",
       "  0.0,\n",
       "  0.0,\n",
       "  0.0,\n",
       "  0.0,\n",
       "  0.0,\n",
       "  0.0,\n",
       "  0.0,\n",
       "  -0.007606396096949818,\n",
       "  0.0,\n",
       "  0.0,\n",
       "  0.0,\n",
       "  0.0,\n",
       "  0.0,\n",
       "  0.0,\n",
       "  0.0,\n",
       "  0.0,\n",
       "  0.0,\n",
       "  0.0,\n",
       "  0.0,\n",
       "  0.0,\n",
       "  0.0,\n",
       "  0.0,\n",
       "  0.0,\n",
       "  0.0,\n",
       "  0.0,\n",
       "  0.0,\n",
       "  0.0,\n",
       "  0.0,\n",
       "  0.0,\n",
       "  0.0,\n",
       "  0.0,\n",
       "  0.0,\n",
       "  0.0,\n",
       "  0.0,\n",
       "  0.0,\n",
       "  0.0,\n",
       "  0.0,\n",
       "  0.0,\n",
       "  0.0,\n",
       "  0.0,\n",
       "  0.0,\n",
       "  0.0,\n",
       "  0.0,\n",
       "  0.0,\n",
       "  0.0,\n",
       "  0.0,\n",
       "  0.0,\n",
       "  0.0,\n",
       "  0.0,\n",
       "  0.0,\n",
       "  0.0,\n",
       "  0.0,\n",
       "  0.0,\n",
       "  0.0,\n",
       "  0.0,\n",
       "  0.0,\n",
       "  0.0,\n",
       "  0.0,\n",
       "  0.0,\n",
       "  0.0,\n",
       "  0.0,\n",
       "  0.0,\n",
       "  0.0,\n",
       "  0.0,\n",
       "  0.0,\n",
       "  0.0,\n",
       "  0.0,\n",
       "  0.0,\n",
       "  0.0,\n",
       "  0.045501497855388866,\n",
       "  0.0,\n",
       "  0.0,\n",
       "  0.0,\n",
       "  0.0,\n",
       "  0.0,\n",
       "  0.0,\n",
       "  0.0,\n",
       "  0.0,\n",
       "  0.0,\n",
       "  0.0,\n",
       "  0.0,\n",
       "  0.0,\n",
       "  0.0,\n",
       "  0.0,\n",
       "  0.0,\n",
       "  0.0,\n",
       "  0.0,\n",
       "  0.0,\n",
       "  0.09397051326611461,\n",
       "  0.17315768995109082,\n",
       "  0.0,\n",
       "  0.0,\n",
       "  0.0,\n",
       "  0.0,\n",
       "  0.0,\n",
       "  0.0,\n",
       "  0.0,\n",
       "  0.24321095862505712,\n",
       "  0.0,\n",
       "  0.0,\n",
       "  0.0,\n",
       "  0.0,\n",
       "  0.0,\n",
       "  0.0,\n",
       "  0.0,\n",
       "  0.0,\n",
       "  0.0,\n",
       "  0.0,\n",
       "  0.0,\n",
       "  0.0,\n",
       "  0.0,\n",
       "  -0.04763414038541403,\n",
       "  0.0,\n",
       "  -0.1228982509444329,\n",
       "  0.0,\n",
       "  0.0,\n",
       "  0.0,\n",
       "  0.0,\n",
       "  0.0,\n",
       "  -0.009658180147306867,\n",
       "  -0.04326842767858727,\n",
       "  0.0,\n",
       "  -0.25394928422477103,\n",
       "  0.0,\n",
       "  -0.014311762504071868,\n",
       "  0.0,\n",
       "  0.0,\n",
       "  0.10830242565725454,\n",
       "  0.0,\n",
       "  0.0,\n",
       "  0.0,\n",
       "  0.0,\n",
       "  0.016621644551560174,\n",
       "  0.0,\n",
       "  -0.22108808835976423,\n",
       "  0.05504160951646346,\n",
       "  0.0,\n",
       "  0.0,\n",
       "  0.019657410344614153,\n",
       "  0.0,\n",
       "  0.0,\n",
       "  0.0,\n",
       "  0.19758646310129452,\n",
       "  -0.12210767695254765,\n",
       "  0.0,\n",
       "  0.0,\n",
       "  0.0,\n",
       "  0.0,\n",
       "  0.0,\n",
       "  0.0,\n",
       "  0.0,\n",
       "  0.0,\n",
       "  0.0,\n",
       "  0.0,\n",
       "  0.0,\n",
       "  0.0,\n",
       "  0.0,\n",
       "  0.0,\n",
       "  0.0,\n",
       "  0.0,\n",
       "  0.0,\n",
       "  0.0,\n",
       "  0.0,\n",
       "  0.0,\n",
       "  0.0,\n",
       "  0.0,\n",
       "  0.0,\n",
       "  0.0,\n",
       "  0.0,\n",
       "  0.0,\n",
       "  0.0,\n",
       "  0.0,\n",
       "  0.0,\n",
       "  0.0,\n",
       "  0.0,\n",
       "  0.0,\n",
       "  0.0,\n",
       "  0.0,\n",
       "  0.0,\n",
       "  0.0,\n",
       "  0.0,\n",
       "  0.0,\n",
       "  0.0,\n",
       "  0.0,\n",
       "  0.0,\n",
       "  0.0,\n",
       "  0.0,\n",
       "  0.0,\n",
       "  0.0,\n",
       "  0.0,\n",
       "  0.0,\n",
       "  0.0,\n",
       "  0.0,\n",
       "  0.0,\n",
       "  0.0,\n",
       "  0.0,\n",
       "  0.0,\n",
       "  0.0,\n",
       "  0.0,\n",
       "  0.0,\n",
       "  0.0,\n",
       "  0.0,\n",
       "  0.0,\n",
       "  0.0,\n",
       "  0.0,\n",
       "  0.0,\n",
       "  0.0,\n",
       "  0.0,\n",
       "  0.0,\n",
       "  0.0,\n",
       "  0.0,\n",
       "  0.0,\n",
       "  0.0,\n",
       "  0.0,\n",
       "  0.0,\n",
       "  0.0,\n",
       "  -0.059633080040307616,\n",
       "  0.0,\n",
       "  0.0,\n",
       "  0.0,\n",
       "  0.0,\n",
       "  0.0,\n",
       "  0.0,\n",
       "  0.0,\n",
       "  0.0,\n",
       "  0.0,\n",
       "  0.0,\n",
       "  0.0,\n",
       "  0.0,\n",
       "  0.0,\n",
       "  0.0,\n",
       "  0.0,\n",
       "  0.0,\n",
       "  0.0,\n",
       "  0.0,\n",
       "  0.0,\n",
       "  0.0,\n",
       "  0.0,\n",
       "  0.0,\n",
       "  0.0,\n",
       "  0.0,\n",
       "  0.0,\n",
       "  0.0,\n",
       "  0.0,\n",
       "  0.0,\n",
       "  0.0,\n",
       "  0.0,\n",
       "  0.0,\n",
       "  0.0,\n",
       "  0.0,\n",
       "  0.0,\n",
       "  0.0,\n",
       "  0.0,\n",
       "  0.0,\n",
       "  0.0,\n",
       "  0.7437793855659229,\n",
       "  0.0,\n",
       "  0.0,\n",
       "  0.0,\n",
       "  0.0,\n",
       "  0.0,\n",
       "  0.0,\n",
       "  0.0,\n",
       "  0.0,\n",
       "  0.0,\n",
       "  0.0,\n",
       "  0.0,\n",
       "  0.0,\n",
       "  0.0,\n",
       "  0.0,\n",
       "  0.0,\n",
       "  0.0,\n",
       "  0.0,\n",
       "  0.0,\n",
       "  0.0,\n",
       "  0.0,\n",
       "  0.0,\n",
       "  0.0,\n",
       "  0.0,\n",
       "  0.0,\n",
       "  0.0,\n",
       "  0.0,\n",
       "  0.0,\n",
       "  0.0,\n",
       "  0.33593366470664177,\n",
       "  0.0,\n",
       "  0.0,\n",
       "  0.0,\n",
       "  0.0,\n",
       "  0.0,\n",
       "  0.0,\n",
       "  0.0,\n",
       "  0.0,\n",
       "  0.0,\n",
       "  0.0,\n",
       "  0.0,\n",
       "  0.0,\n",
       "  0.0,\n",
       "  0.0,\n",
       "  0.0,\n",
       "  0.0,\n",
       "  0.0,\n",
       "  0.0,\n",
       "  0.0,\n",
       "  0.0,\n",
       "  0.0,\n",
       "  0.0,\n",
       "  0.0,\n",
       "  0.0,\n",
       "  0.0,\n",
       "  0.0,\n",
       "  0.0,\n",
       "  0.0,\n",
       "  0.0,\n",
       "  -0.3335143782702883,\n",
       "  0.0,\n",
       "  0.0,\n",
       "  0.0,\n",
       "  0.0,\n",
       "  0.0,\n",
       "  0.0,\n",
       "  0.0,\n",
       "  0.0,\n",
       "  0.0,\n",
       "  0.0,\n",
       "  0.0,\n",
       "  0.0,\n",
       "  0.0,\n",
       "  0.0,\n",
       "  0.0,\n",
       "  0.0,\n",
       "  0.0,\n",
       "  0.0,\n",
       "  0.0,\n",
       "  0.0,\n",
       "  0.0,\n",
       "  0.0,\n",
       "  0.0,\n",
       "  0.0,\n",
       "  0.0,\n",
       "  0.0,\n",
       "  0.0,\n",
       "  0.24848068942010704,\n",
       "  0.0,\n",
       "  0.0,\n",
       "  0.0,\n",
       "  0.0,\n",
       "  0.0,\n",
       "  0.0,\n",
       "  0.0,\n",
       "  0.0,\n",
       "  0.0,\n",
       "  0.0,\n",
       "  0.0,\n",
       "  0.0,\n",
       "  0.0,\n",
       "  0.0,\n",
       "  0.0,\n",
       "  0.0,\n",
       "  0.0,\n",
       "  0.0,\n",
       "  0.0,\n",
       "  0.0,\n",
       "  0.0,\n",
       "  0.0,\n",
       "  0.0,\n",
       "  0.0,\n",
       "  0.0,\n",
       "  0.0,\n",
       "  0.0,\n",
       "  0.0,\n",
       "  0.0,\n",
       "  0.0,\n",
       "  0.0,\n",
       "  0.0,\n",
       "  0.0,\n",
       "  0.0,\n",
       "  0.0,\n",
       "  0.0,\n",
       "  0.0,\n",
       "  0.0,\n",
       "  0.0,\n",
       "  0.0,\n",
       "  0.0,\n",
       "  0.0,\n",
       "  0.0,\n",
       "  0.0,\n",
       "  0.0,\n",
       "  0.0,\n",
       "  0.0,\n",
       "  0.0,\n",
       "  0.0,\n",
       "  0.0,\n",
       "  0.0,\n",
       "  0.0,\n",
       "  0.0,\n",
       "  0.0,\n",
       "  0.0,\n",
       "  0.0,\n",
       "  0.0,\n",
       "  0.0,\n",
       "  0.0,\n",
       "  -0.18927413121455128,\n",
       "  -0.2733502847096706,\n",
       "  0.0,\n",
       "  0.0,\n",
       "  0.0,\n",
       "  -0.019821880558077192,\n",
       "  0.0,\n",
       "  0.0,\n",
       "  0.0,\n",
       "  0.0,\n",
       "  0.0,\n",
       "  0.0,\n",
       "  0.0,\n",
       "  0.0,\n",
       "  0.0,\n",
       "  0.0,\n",
       "  0.0,\n",
       "  0.0,\n",
       "  0.0,\n",
       "  0.0,\n",
       "  0.0,\n",
       "  0.0,\n",
       "  0.0,\n",
       "  0.0,\n",
       "  0.0,\n",
       "  -0.0402372938740995,\n",
       "  0.0,\n",
       "  0.0,\n",
       "  0.0,\n",
       "  0.0,\n",
       "  0.0,\n",
       "  0.0,\n",
       "  0.0,\n",
       "  0.0,\n",
       "  0.0,\n",
       "  0.0,\n",
       "  0.0,\n",
       "  0.0,\n",
       "  0.0,\n",
       "  0.0,\n",
       "  0.0,\n",
       "  0.0,\n",
       "  0.0,\n",
       "  0.0,\n",
       "  0.0,\n",
       "  0.0,\n",
       "  0.0,\n",
       "  0.0,\n",
       "  0.0,\n",
       "  0.0,\n",
       "  0.0,\n",
       "  0.0,\n",
       "  0.0,\n",
       "  0.0,\n",
       "  0.0,\n",
       "  0.0,\n",
       "  0.0,\n",
       "  0.0,\n",
       "  0.0,\n",
       "  0.0,\n",
       "  0.0,\n",
       "  0.0,\n",
       "  0.0,\n",
       "  0.0,\n",
       "  0.0,\n",
       "  0.0,\n",
       "  0.0,\n",
       "  0.0,\n",
       "  0.0,\n",
       "  0.0,\n",
       "  0.0,\n",
       "  0.0,\n",
       "  0.0,\n",
       "  0.0,\n",
       "  0.0,\n",
       "  0.0,\n",
       "  0.0,\n",
       "  0.0,\n",
       "  0.0,\n",
       "  0.012576019827292978,\n",
       "  0.0,\n",
       "  0.0,\n",
       "  0.0,\n",
       "  0.0,\n",
       "  0.0,\n",
       "  0.10559605888165954,\n",
       "  0.0,\n",
       "  0.0,\n",
       "  0.0,\n",
       "  0.0,\n",
       "  0.0,\n",
       "  0.0,\n",
       "  0.0,\n",
       "  0.0,\n",
       "  0.0,\n",
       "  0.0,\n",
       "  0.0,\n",
       "  0.0,\n",
       "  0.0,\n",
       "  0.0,\n",
       "  0.0,\n",
       "  0.0,\n",
       "  0.0,\n",
       "  0.0,\n",
       "  0.0,\n",
       "  0.0,\n",
       "  0.0,\n",
       "  0.0,\n",
       "  0.0,\n",
       "  0.0,\n",
       "  0.0,\n",
       "  0.0,\n",
       "  0.0,\n",
       "  -0.07631560133553913,\n",
       "  0.0,\n",
       "  0.0,\n",
       "  0.0,\n",
       "  0.0,\n",
       "  0.0,\n",
       "  0.0,\n",
       "  0.0,\n",
       "  0.0,\n",
       "  0.0,\n",
       "  0.0,\n",
       "  0.0,\n",
       "  0.0,\n",
       "  0.0,\n",
       "  0.0,\n",
       "  0.060760401930655995,\n",
       "  0.0,\n",
       "  0.0,\n",
       "  0.0,\n",
       "  0.0,\n",
       "  0.0,\n",
       "  0.0,\n",
       "  0.0,\n",
       "  0.0,\n",
       "  0.0,\n",
       "  0.0,\n",
       "  0.0,\n",
       "  0.0,\n",
       "  0.0,\n",
       "  0.0,\n",
       "  0.0,\n",
       "  0.0,\n",
       "  0.0,\n",
       "  0.0,\n",
       "  0.0,\n",
       "  0.0,\n",
       "  0.0,\n",
       "  0.0,\n",
       "  0.0,\n",
       "  0.0,\n",
       "  0.0,\n",
       "  0.0,\n",
       "  0.03074813390252787,\n",
       "  0.0,\n",
       "  0.0,\n",
       "  0.0,\n",
       "  0.0,\n",
       "  0.0,\n",
       "  0.0,\n",
       "  0.0,\n",
       "  0.0,\n",
       "  0.0,\n",
       "  0.0,\n",
       "  0.0,\n",
       "  0.0,\n",
       "  0.0,\n",
       "  0.0,\n",
       "  0.0,\n",
       "  0.0,\n",
       "  0.0,\n",
       "  ...]]"
      ]
     },
     "execution_count": 73,
     "metadata": {},
     "output_type": "execute_result"
    }
   ],
   "source": [
    "feature_importances = grid_search.best_estimator_.coef_\n",
    "feature_importances.tolist()"
   ]
  },
  {
   "cell_type": "markdown",
   "metadata": {},
   "source": [
    "Let's display these importance scores next to their corresponding attribute names."
   ]
  },
  {
   "cell_type": "code",
   "execution_count": 74,
   "metadata": {},
   "outputs": [
    {
     "data": {
      "text/plain": [
       "[(0.65463123533617318, 'VehicleAge'),\n",
       " (0.38468036837700686, 'MMRAcquisitionRetailAveragePrice'),\n",
       " (0.29297532831856005, 'MMRCurrentAuctionAveragePrice'),\n",
       " (0.25778886804491746, '11/23/2010'),\n",
       " (0.2441924469576367, '12/8/2010'),\n",
       " (0.24321095862505712, '9/29/2009'),\n",
       " (0.24168528258576388, '12/9/2010'),\n",
       " (0.22721492430372478, 'VehYear'),\n",
       " (0.22174212157044343, '12/1/2009'),\n",
       " (0.22113708385492747, '12/22/2010'),\n",
       " (0.21291319007089488, '11/2/2010'),\n",
       " (0.20942853167257655, 'MMRCurrentAuctionCleanPrice'),\n",
       " (0.19050033321560766, '11/3/2009'),\n",
       " (0.17315768995109082, '9/23/2009'),\n",
       " (0.11714855865214149, 'VehOdo'),\n",
       " (0.11305990794898836, '10/27/2009'),\n",
       " (0.093970513266114608, '9/22/2010'),\n",
       " (0.093072781265397975, '12/7/2010'),\n",
       " (0.081125585154835617, 'WarrantyCost'),\n",
       " (0.071442753669169135, '6/30/2009'),\n",
       " (0.052961312531126029, 'RefId'),\n",
       " (0.045501497855388866, '9/10/2009'),\n",
       " (0.036728384283614857, '10/7/2009'),\n",
       " (0.0, 'miles_per_year'),\n",
       " (0.0, 'MMRAcquisitonRetailCleanPrice'),\n",
       " (0.0, 'MMRAcquisitionAuctionCleanPrice'),\n",
       " (0.0, '9/9/2010'),\n",
       " (0.0, '9/9/2009'),\n",
       " (0.0, '9/8/2010'),\n",
       " (0.0, '9/8/2009'),\n",
       " (0.0, '9/7/2010'),\n",
       " (0.0, '9/7/2009'),\n",
       " (0.0, '9/6/2010'),\n",
       " (0.0, '9/4/2009'),\n",
       " (0.0, '9/30/2010'),\n",
       " (0.0, '9/30/2009'),\n",
       " (0.0, '9/3/2010'),\n",
       " (0.0, '9/3/2009'),\n",
       " (0.0, '9/29/2010'),\n",
       " (0.0, '9/28/2010'),\n",
       " (0.0, '9/28/2009'),\n",
       " (0.0, '9/27/2010'),\n",
       " (0.0, '9/25/2009'),\n",
       " (0.0, '9/24/2010'),\n",
       " (0.0, '9/24/2009'),\n",
       " (0.0, '9/23/2010'),\n",
       " (0.0, '9/22/2009'),\n",
       " (0.0, '9/21/2010'),\n",
       " (0.0, '9/21/2009'),\n",
       " (0.0, '9/20/2010'),\n",
       " (0.0, '9/2/2010'),\n",
       " (0.0, '9/2/2009'),\n",
       " (0.0, '9/18/2009'),\n",
       " (0.0, '9/17/2010'),\n",
       " (0.0, '9/17/2009'),\n",
       " (0.0, '9/16/2010'),\n",
       " (0.0, '9/16/2009'),\n",
       " (0.0, '9/15/2010'),\n",
       " (0.0, '9/15/2009'),\n",
       " (0.0, '9/14/2010'),\n",
       " (0.0, '9/14/2009'),\n",
       " (0.0, '9/13/2010'),\n",
       " (0.0, '9/11/2009'),\n",
       " (0.0, '9/10/2010'),\n",
       " (0.0, '9/1/2010'),\n",
       " (0.0, '9/1/2009'),\n",
       " (0.0, '8/9/2010'),\n",
       " (0.0, '8/7/2009'),\n",
       " (0.0, '8/6/2010'),\n",
       " (0.0, '8/6/2009'),\n",
       " (0.0, '8/5/2010'),\n",
       " (0.0, '8/5/2009'),\n",
       " (0.0, '8/4/2010'),\n",
       " (0.0, '8/4/2009'),\n",
       " (0.0, '8/31/2010'),\n",
       " (0.0, '8/31/2009'),\n",
       " (0.0, '8/30/2010'),\n",
       " (0.0, '8/3/2010'),\n",
       " (0.0, '8/3/2009'),\n",
       " (0.0, '8/28/2009'),\n",
       " (0.0, '8/27/2010'),\n",
       " (0.0, '8/27/2009'),\n",
       " (0.0, '8/26/2010'),\n",
       " (0.0, '8/26/2009'),\n",
       " (0.0, '8/25/2010'),\n",
       " (0.0, '8/25/2009'),\n",
       " (0.0, '8/24/2010'),\n",
       " (0.0, '8/24/2009'),\n",
       " (0.0, '8/23/2010'),\n",
       " (0.0, '8/21/2009'),\n",
       " (0.0, '8/20/2010'),\n",
       " (0.0, '8/20/2009'),\n",
       " (0.0, '8/2/2010'),\n",
       " (0.0, '8/19/2010'),\n",
       " (0.0, '8/19/2009'),\n",
       " (0.0, '8/18/2010'),\n",
       " (0.0, '8/18/2009'),\n",
       " (0.0, '8/17/2010'),\n",
       " (0.0, '8/17/2009'),\n",
       " (0.0, '8/16/2010'),\n",
       " (0.0, '8/14/2009'),\n",
       " (0.0, '8/13/2010'),\n",
       " (0.0, '8/13/2009'),\n",
       " (0.0, '8/12/2010'),\n",
       " (0.0, '8/12/2009'),\n",
       " (0.0, '8/11/2010'),\n",
       " (0.0, '8/11/2009'),\n",
       " (0.0, '8/10/2010'),\n",
       " (0.0, '8/10/2009'),\n",
       " (0.0, '7/9/2010'),\n",
       " (0.0, '7/9/2009'),\n",
       " (0.0, '7/8/2010'),\n",
       " (0.0, '7/8/2009'),\n",
       " (0.0, '7/7/2010'),\n",
       " (0.0, '7/7/2009'),\n",
       " (0.0, '7/6/2010'),\n",
       " (0.0, '7/6/2009'),\n",
       " (0.0, '7/5/2010'),\n",
       " (0.0, '7/31/2009'),\n",
       " (0.0, '7/30/2010'),\n",
       " (0.0, '7/30/2009'),\n",
       " (0.0, '7/3/2009'),\n",
       " (0.0, '7/29/2010'),\n",
       " (0.0, '7/29/2009'),\n",
       " (0.0, '7/28/2010'),\n",
       " (0.0, '7/27/2010'),\n",
       " (0.0, '7/27/2009'),\n",
       " (0.0, '7/26/2010'),\n",
       " (0.0, '7/24/2009'),\n",
       " (0.0, '7/23/2010'),\n",
       " (0.0, '7/23/2009'),\n",
       " (0.0, '7/22/2010'),\n",
       " (0.0, '7/22/2009'),\n",
       " (0.0, '7/21/2010'),\n",
       " (0.0, '7/21/2009'),\n",
       " (0.0, '7/20/2010'),\n",
       " (0.0, '7/20/2009'),\n",
       " (0.0, '7/2/2010'),\n",
       " (0.0, '7/2/2009'),\n",
       " (0.0, '7/19/2010'),\n",
       " (0.0, '7/17/2009'),\n",
       " (0.0, '7/16/2010'),\n",
       " (0.0, '7/16/2009'),\n",
       " (0.0, '7/15/2010'),\n",
       " (0.0, '7/15/2009'),\n",
       " (0.0, '7/14/2010'),\n",
       " (0.0, '7/14/2009'),\n",
       " (0.0, '7/13/2010'),\n",
       " (0.0, '7/13/2009'),\n",
       " (0.0, '7/12/2010'),\n",
       " (0.0, '7/10/2009'),\n",
       " (0.0, '7/1/2010'),\n",
       " (0.0, '7/1/2009'),\n",
       " (0.0, '6/9/2010'),\n",
       " (0.0, '6/9/2009'),\n",
       " (0.0, '6/8/2010'),\n",
       " (0.0, '6/8/2009'),\n",
       " (0.0, '6/7/2010'),\n",
       " (0.0, '6/5/2009'),\n",
       " (0.0, '6/4/2010'),\n",
       " (0.0, '6/4/2009'),\n",
       " (0.0, '6/30/2010'),\n",
       " (0.0, '6/3/2010'),\n",
       " (0.0, '6/3/2009'),\n",
       " (0.0, '6/29/2010'),\n",
       " (0.0, '6/29/2009'),\n",
       " (0.0, '6/28/2010'),\n",
       " (0.0, '6/26/2009'),\n",
       " (0.0, '6/25/2010'),\n",
       " (0.0, '6/25/2009'),\n",
       " (0.0, '6/24/2010'),\n",
       " (0.0, '6/24/2009'),\n",
       " (0.0, '6/23/2010'),\n",
       " (0.0, '6/22/2010'),\n",
       " (0.0, '6/22/2009'),\n",
       " (0.0, '6/21/2010'),\n",
       " (0.0, '6/2/2010'),\n",
       " (0.0, '6/2/2009'),\n",
       " (0.0, '6/19/2009'),\n",
       " (0.0, '6/18/2009'),\n",
       " (0.0, '6/17/2010'),\n",
       " (0.0, '6/17/2009'),\n",
       " (0.0, '6/16/2010'),\n",
       " (0.0, '6/16/2009'),\n",
       " (0.0, '6/15/2010'),\n",
       " (0.0, '6/15/2009'),\n",
       " (0.0, '6/14/2010'),\n",
       " (0.0, '6/12/2009'),\n",
       " (0.0, '6/11/2010'),\n",
       " (0.0, '6/11/2009'),\n",
       " (0.0, '6/10/2010'),\n",
       " (0.0, '6/10/2009'),\n",
       " (0.0, '6/1/2010'),\n",
       " (0.0, '6/1/2009'),\n",
       " (0.0, '5/8/2009'),\n",
       " (0.0, '5/7/2010'),\n",
       " (0.0, '5/7/2009'),\n",
       " (0.0, '5/6/2010'),\n",
       " (0.0, '5/6/2009'),\n",
       " (0.0, '5/5/2010'),\n",
       " (0.0, '5/5/2009'),\n",
       " (0.0, '5/4/2010'),\n",
       " (0.0, '5/4/2009'),\n",
       " (0.0, '5/3/2010'),\n",
       " (0.0, '5/29/2009'),\n",
       " (0.0, '5/28/2010'),\n",
       " (0.0, '5/28/2009'),\n",
       " (0.0, '5/27/2010'),\n",
       " (0.0, '5/27/2009'),\n",
       " (0.0, '5/26/2010'),\n",
       " (0.0, '5/26/2009'),\n",
       " (0.0, '5/25/2010'),\n",
       " (0.0, '5/25/2009'),\n",
       " (0.0, '5/24/2010'),\n",
       " (0.0, '5/22/2009'),\n",
       " (0.0, '5/21/2010'),\n",
       " (0.0, '5/21/2009'),\n",
       " (0.0, '5/20/2010'),\n",
       " (0.0, '5/20/2009'),\n",
       " (0.0, '5/19/2010'),\n",
       " (0.0, '5/19/2009'),\n",
       " (0.0, '5/18/2009'),\n",
       " (0.0, '5/17/2010'),\n",
       " (0.0, '5/15/2009'),\n",
       " (0.0, '5/14/2010'),\n",
       " (0.0, '5/14/2009'),\n",
       " (0.0, '5/13/2010'),\n",
       " (0.0, '5/13/2009'),\n",
       " (0.0, '5/12/2009'),\n",
       " (0.0, '5/11/2010'),\n",
       " (0.0, '5/11/2009'),\n",
       " (0.0, '5/10/2010'),\n",
       " (0.0, '5/1/2009'),\n",
       " (0.0, '4/9/2010'),\n",
       " (0.0, '4/9/2009'),\n",
       " (0.0, '4/8/2010'),\n",
       " (0.0, '4/8/2009'),\n",
       " (0.0, '4/7/2010'),\n",
       " (0.0, '4/7/2009'),\n",
       " (0.0, '4/6/2010'),\n",
       " (0.0, '4/6/2009'),\n",
       " (0.0, '4/5/2010'),\n",
       " (0.0, '4/30/2010'),\n",
       " (0.0, '4/30/2009'),\n",
       " (0.0, '4/3/2009'),\n",
       " (0.0, '4/29/2010'),\n",
       " (0.0, '4/29/2009'),\n",
       " (0.0, '4/28/2010'),\n",
       " (0.0, '4/28/2009'),\n",
       " (0.0, '4/27/2010'),\n",
       " (0.0, '4/27/2009'),\n",
       " (0.0, '4/26/2010'),\n",
       " (0.0, '4/24/2009'),\n",
       " (0.0, '4/23/2010'),\n",
       " (0.0, '4/23/2009'),\n",
       " (0.0, '4/22/2010'),\n",
       " (0.0, '4/22/2009'),\n",
       " (0.0, '4/21/2010'),\n",
       " (0.0, '4/21/2009'),\n",
       " (0.0, '4/20/2010'),\n",
       " (0.0, '4/20/2009'),\n",
       " (0.0, '4/2/2010'),\n",
       " (0.0, '4/2/2009'),\n",
       " (0.0, '4/19/2010'),\n",
       " (0.0, '4/17/2009'),\n",
       " (0.0, '4/16/2010'),\n",
       " (0.0, '4/16/2009'),\n",
       " (0.0, '4/15/2009'),\n",
       " (0.0, '4/14/2010'),\n",
       " (0.0, '4/13/2010'),\n",
       " (0.0, '4/13/2009'),\n",
       " (0.0, '4/12/2010'),\n",
       " (0.0, '4/10/2009'),\n",
       " (0.0, '4/1/2010'),\n",
       " (0.0, '3/9/2009'),\n",
       " (0.0, '3/8/2010'),\n",
       " (0.0, '3/6/2009'),\n",
       " (0.0, '3/5/2010'),\n",
       " (0.0, '3/5/2009'),\n",
       " (0.0, '3/4/2010'),\n",
       " (0.0, '3/4/2009'),\n",
       " (0.0, '3/31/2010'),\n",
       " (0.0, '3/31/2009'),\n",
       " (0.0, '3/30/2010'),\n",
       " (0.0, '3/30/2009'),\n",
       " (0.0, '3/3/2010'),\n",
       " (0.0, '3/3/2009'),\n",
       " (0.0, '3/29/2010'),\n",
       " (0.0, '3/27/2009'),\n",
       " (0.0, '3/26/2010'),\n",
       " (0.0, '3/26/2009'),\n",
       " (0.0, '3/25/2010'),\n",
       " (0.0, '3/25/2009'),\n",
       " (0.0, '3/24/2010'),\n",
       " (0.0, '3/24/2009'),\n",
       " (0.0, '3/23/2010'),\n",
       " (0.0, '3/23/2009'),\n",
       " (0.0, '3/22/2010'),\n",
       " (0.0, '3/20/2009'),\n",
       " (0.0, '3/2/2010'),\n",
       " (0.0, '3/19/2010'),\n",
       " (0.0, '3/19/2009'),\n",
       " (0.0, '3/18/2010'),\n",
       " (0.0, '3/18/2009'),\n",
       " (0.0, '3/17/2010'),\n",
       " (0.0, '3/17/2009'),\n",
       " (0.0, '3/16/2010'),\n",
       " (0.0, '3/16/2009'),\n",
       " (0.0, '3/15/2010'),\n",
       " (0.0, '3/13/2009'),\n",
       " (0.0, '3/12/2010'),\n",
       " (0.0, '3/12/2009'),\n",
       " (0.0, '3/11/2010'),\n",
       " (0.0, '3/11/2009'),\n",
       " (0.0, '3/10/2010'),\n",
       " (0.0, '3/10/2009'),\n",
       " (0.0, '3/1/2010'),\n",
       " (0.0, '2/9/2010'),\n",
       " (0.0, '2/9/2009'),\n",
       " (0.0, '2/8/2010'),\n",
       " (0.0, '2/6/2009'),\n",
       " (0.0, '2/5/2010'),\n",
       " (0.0, '2/5/2009'),\n",
       " (0.0, '2/4/2010'),\n",
       " (0.0, '2/4/2009'),\n",
       " (0.0, '2/3/2009'),\n",
       " (0.0, '2/27/2009'),\n",
       " (0.0, '2/26/2010'),\n",
       " (0.0, '2/26/2009'),\n",
       " (0.0, '2/25/2010'),\n",
       " (0.0, '2/25/2009'),\n",
       " (0.0, '2/24/2010'),\n",
       " (0.0, '2/24/2009'),\n",
       " (0.0, '2/23/2010'),\n",
       " (0.0, '2/23/2009'),\n",
       " (0.0, '2/22/2010'),\n",
       " (0.0, '2/20/2010'),\n",
       " (0.0, '2/20/2009'),\n",
       " (0.0, '2/2/2010'),\n",
       " (0.0, '2/2/2009'),\n",
       " (0.0, '2/19/2010'),\n",
       " (0.0, '2/19/2009'),\n",
       " (0.0, '2/18/2010'),\n",
       " (0.0, '2/18/2009'),\n",
       " (0.0, '2/17/2010'),\n",
       " (0.0, '2/17/2009'),\n",
       " (0.0, '2/16/2010'),\n",
       " (0.0, '2/15/2010'),\n",
       " (0.0, '2/13/2009'),\n",
       " (0.0, '2/12/2010'),\n",
       " (0.0, '2/12/2009'),\n",
       " (0.0, '2/11/2010'),\n",
       " (0.0, '2/11/2009'),\n",
       " (0.0, '2/10/2010'),\n",
       " (0.0, '2/10/2009'),\n",
       " (0.0, '2/1/2010'),\n",
       " (0.0, '12/9/2009'),\n",
       " (0.0, '12/8/2009'),\n",
       " (0.0, '12/7/2009'),\n",
       " (0.0, '12/6/2010'),\n",
       " (0.0, '12/4/2010'),\n",
       " (0.0, '12/4/2009'),\n",
       " (0.0, '12/31/2009'),\n",
       " (0.0, '12/30/2010'),\n",
       " (0.0, '12/30/2009'),\n",
       " (0.0, '12/3/2010'),\n",
       " (0.0, '12/3/2009'),\n",
       " (0.0, '12/29/2010'),\n",
       " (0.0, '12/29/2009'),\n",
       " (0.0, '12/28/2010'),\n",
       " (0.0, '12/28/2009'),\n",
       " (0.0, '12/27/2010'),\n",
       " (0.0, '12/24/2010'),\n",
       " (0.0, '12/23/2010'),\n",
       " (0.0, '12/23/2009'),\n",
       " (0.0, '12/22/2009'),\n",
       " (0.0, '12/21/2010'),\n",
       " (0.0, '12/21/2009'),\n",
       " (0.0, '12/20/2010'),\n",
       " (0.0, '12/2/2010'),\n",
       " (0.0, '12/2/2009'),\n",
       " (0.0, '12/18/2009'),\n",
       " (0.0, '12/17/2010'),\n",
       " (0.0, '12/17/2009'),\n",
       " (0.0, '12/16/2010'),\n",
       " (0.0, '12/16/2009'),\n",
       " (0.0, '12/15/2010'),\n",
       " (0.0, '12/15/2009'),\n",
       " (0.0, '12/14/2010'),\n",
       " (0.0, '12/13/2010'),\n",
       " (0.0, '12/11/2009'),\n",
       " (0.0, '12/10/2010'),\n",
       " (0.0, '12/10/2009'),\n",
       " (0.0, '12/1/2010'),\n",
       " (0.0, '11/9/2010'),\n",
       " (0.0, '11/9/2009'),\n",
       " (0.0, '11/8/2010'),\n",
       " (0.0, '11/8/2009'),\n",
       " (0.0, '11/6/2009'),\n",
       " (0.0, '11/5/2010'),\n",
       " (0.0, '11/5/2009'),\n",
       " (0.0, '11/4/2010'),\n",
       " (0.0, '11/4/2009'),\n",
       " (0.0, '11/30/2010'),\n",
       " (0.0, '11/30/2009'),\n",
       " (0.0, '11/3/2010'),\n",
       " (0.0, '11/29/2010'),\n",
       " (0.0, '11/27/2009'),\n",
       " (0.0, '11/26/2010'),\n",
       " (0.0, '11/25/2009'),\n",
       " (0.0, '11/24/2010'),\n",
       " (0.0, '11/24/2009'),\n",
       " (0.0, '11/23/2009'),\n",
       " (0.0, '11/22/2010'),\n",
       " (0.0, '11/20/2009'),\n",
       " (0.0, '11/2/2009'),\n",
       " (0.0, '11/19/2010'),\n",
       " (0.0, '11/19/2009'),\n",
       " (0.0, '11/18/2010'),\n",
       " (0.0, '11/18/2009'),\n",
       " (0.0, '11/17/2010'),\n",
       " (0.0, '11/17/2009'),\n",
       " (0.0, '11/16/2010'),\n",
       " (0.0, '11/16/2009'),\n",
       " (0.0, '11/15/2010'),\n",
       " (0.0, '11/13/2009'),\n",
       " (0.0, '11/12/2010'),\n",
       " (0.0, '11/12/2009'),\n",
       " (0.0, '11/11/2010'),\n",
       " (0.0, '11/11/2009'),\n",
       " (0.0, '11/10/2010'),\n",
       " (0.0, '11/10/2009'),\n",
       " (0.0, '11/1/2010'),\n",
       " (0.0, '10/9/2009'),\n",
       " (0.0, '10/8/2010'),\n",
       " (0.0, '10/8/2009'),\n",
       " (0.0, '10/7/2010'),\n",
       " (0.0, '10/6/2010'),\n",
       " (0.0, '10/6/2009'),\n",
       " (0.0, '10/5/2010'),\n",
       " (0.0, '10/5/2009'),\n",
       " (0.0, '10/4/2010'),\n",
       " (0.0, '10/30/2009'),\n",
       " (0.0, '10/29/2010'),\n",
       " (0.0, '10/29/2009'),\n",
       " (0.0, '10/28/2010'),\n",
       " (0.0, '10/27/2010'),\n",
       " (0.0, '10/26/2010'),\n",
       " (0.0, '10/25/2010'),\n",
       " (0.0, '10/23/2009'),\n",
       " (0.0, '10/22/2010'),\n",
       " (0.0, '10/22/2009'),\n",
       " (0.0, '10/21/2010'),\n",
       " (0.0, '10/21/2009'),\n",
       " (0.0, '10/20/2010'),\n",
       " (0.0, '10/20/2009'),\n",
       " (0.0, '10/2/2009'),\n",
       " (0.0, '10/19/2010'),\n",
       " (0.0, '10/19/2009'),\n",
       " (0.0, '10/18/2010'),\n",
       " (0.0, '10/16/2009'),\n",
       " (0.0, '10/15/2010'),\n",
       " (0.0, '10/15/2009'),\n",
       " (0.0, '10/14/2010'),\n",
       " (0.0, '10/14/2009'),\n",
       " (0.0, '10/13/2010'),\n",
       " (0.0, '10/13/2009'),\n",
       " (0.0, '10/12/2010'),\n",
       " (0.0, '10/12/2009'),\n",
       " (0.0, '10/11/2010'),\n",
       " (0.0, '10/1/2010'),\n",
       " (0.0, '10/1/2009'),\n",
       " (0.0, '1/9/2009'),\n",
       " (0.0, '1/8/2010'),\n",
       " (0.0, '1/8/2009'),\n",
       " (0.0, '1/7/2010'),\n",
       " (0.0, '1/7/2009'),\n",
       " (0.0, '1/6/2010'),\n",
       " (0.0, '1/5/2010'),\n",
       " (0.0, '1/5/2009'),\n",
       " (0.0, '1/4/2010'),\n",
       " (0.0, '1/30/2009'),\n",
       " (0.0, '1/29/2010'),\n",
       " (0.0, '1/28/2010'),\n",
       " (0.0, '1/28/2009'),\n",
       " (0.0, '1/27/2010'),\n",
       " (0.0, '1/27/2009'),\n",
       " (0.0, '1/26/2010'),\n",
       " (0.0, '1/26/2009'),\n",
       " (0.0, '1/23/2009'),\n",
       " (0.0, '1/22/2010'),\n",
       " (0.0, '1/22/2009'),\n",
       " (0.0, '1/21/2010'),\n",
       " (0.0, '1/21/2009'),\n",
       " (0.0, '1/20/2010'),\n",
       " (0.0, '1/20/2009'),\n",
       " (0.0, '1/19/2010'),\n",
       " (0.0, '1/19/2009'),\n",
       " (0.0, '1/18/2010'),\n",
       " (0.0, '1/16/2009'),\n",
       " (0.0, '1/15/2010'),\n",
       " (0.0, '1/15/2009'),\n",
       " (0.0, '1/14/2010'),\n",
       " (0.0, '1/14/2009'),\n",
       " (0.0, '1/13/2010'),\n",
       " (0.0, '1/13/2009'),\n",
       " (0.0, '1/12/2010'),\n",
       " (0.0, '1/12/2009'),\n",
       " (0.0, '1/11/2010'),\n",
       " (0.0, '1/10/2010'),\n",
       " (-0.0076063960969498176, '7/28/2009'),\n",
       " (-0.026771424721334352, '4/1/2009'),\n",
       " (-0.033209110930129099, '5/12/2010'),\n",
       " (-0.041061296449173834, 'IsOnlineSale'),\n",
       " (-0.045180610410676329, '10/28/2009'),\n",
       " (-0.057232504964688943, '6/23/2009'),\n",
       " (-0.057590960762398405, '10/26/2009'),\n",
       " (-0.066587526656871607, '2/3/2010'),\n",
       " (-0.068359286752346066, '4/15/2010'),\n",
       " (-0.069435225844454246, '1/29/2009'),\n",
       " (-0.069609781911808152, 'VNZIP1'),\n",
       " (-0.13364302275430337, '3/9/2010'),\n",
       " (-0.14900700620728763, 'BYRNO'),\n",
       " (-0.19761290717745608, '1/6/2009'),\n",
       " (-0.19829751579512275, 'MMRCurrentRetailCleanPrice'),\n",
       " (-0.24667602546027093, 'MMRCurrentRetailAveragePrice'),\n",
       " (-0.25020634630547139, '4/14/2009'),\n",
       " (-0.25130939004591357, 'WheelTypeID'),\n",
       " (-0.25324700906225134, 'VehBCost'),\n",
       " (-0.2546274291439411, '2/16/2009'),\n",
       " (-0.31322945936935009, 'MMRAcquisitionAuctionAveragePrice'),\n",
       " (-0.31908315731325998, '5/18/2010'),\n",
       " (-0.36726583941852509, '3/2/2009'),\n",
       " (-0.43902876074910407, '6/18/2010'),\n",
       " (-0.88151153309319696, '12/14/2009'),\n",
       " (-1.7770294881023059, '1/25/2010')]"
      ]
     },
     "execution_count": 74,
     "metadata": {},
     "output_type": "execute_result"
    }
   ],
   "source": [
    "extra_attribs = ['miles_per_year']\n",
    "encoder = cat_pipeline.named_steps['encoder']\n",
    "cat_1hot_attribs = list(encoder.categories_[0])\n",
    "attributes = num_attribs + extra_attribs + cat_1hot_attribs\n",
    "sorted(zip(feature_importances[0], attributes), reverse=True)"
   ]
  },
  {
   "cell_type": "markdown",
   "metadata": {},
   "source": [
    "Here, let's write some custom function to drop some un-important features and re-define some text and categorical attributes. I have already written these function in the loading class. Let's see how the result will be. "
   ]
  },
  {
   "cell_type": "code",
   "execution_count": 75,
   "metadata": {},
   "outputs": [],
   "source": [
    "loading.redefine_train_category(data_name='train_set')\n",
    "train_set_new = loading.load_train_car_data(version='new')\n",
    "train_set_labels_new = train_set_new['IsBadBuy'].copy()\n",
    "train_set_new = train_set_new.drop(['IsBadBuy'], axis=1)\n",
    "train_set_num = train_set_new.select_dtypes(include=[np.number])\n",
    "train_set_cat = train_set_new.select_dtypes(include=['object'])\n",
    "num_attribs_new = list(train_set_num)\n",
    "cat_attribs_new = list(train_set_cat)\n",
    "num_pipeline_new = Pipeline([\n",
    "        ('selector', DataFrameSelector(num_attribs_new)),\n",
    "        ('imputer', Imputer(strategy='median')),\n",
    "        ('attribs_adder', CombinedAttributesAdder(version='new')),\n",
    "        ('std_scaler', StandardScaler()),\n",
    "    ])\n",
    "cat_pipeline_new = Pipeline([\n",
    "        ('custom_imputer', CustomImputer(strategy='fill')),\n",
    "        ('selector', DataFrameSelector(cat_attribs_new)),\n",
    "        ('encoder', CategoricalEncoder(encoding='onehot-dense')),\n",
    "    ])\n",
    "full_pipeline_new = FeatureUnion(transformer_list=[\n",
    "        (\"num_pipeline_new\", num_pipeline_new),\n",
    "        (\"cat_pipeline_new\", cat_pipeline_new),\n",
    "    ])\n",
    "train_set_prepared_new = full_pipeline_new.fit_transform(train_set_new)"
   ]
  },
  {
   "cell_type": "markdown",
   "metadata": {},
   "source": [
    "Now let's use new data to train it and get best hyperparameters."
   ]
  },
  {
   "cell_type": "code",
   "execution_count": 76,
   "metadata": {},
   "outputs": [
    {
     "data": {
      "text/plain": [
       "GridSearchCV(cv=5, error_score='raise',\n",
       "       estimator=LogisticRegression(C=1.0, class_weight=None, dual=False, fit_intercept=True,\n",
       "          intercept_scaling=1, max_iter=100, multi_class='ovr', n_jobs=1,\n",
       "          penalty='l2', random_state=None, solver='liblinear', tol=0.0001,\n",
       "          verbose=0, warm_start=False),\n",
       "       fit_params=None, iid=True, n_jobs=1,\n",
       "       param_grid=[{'max_iter': [100, 150], 'penalty': ['l1', 'l2'], 'C': [0.05, 0.1]}],\n",
       "       pre_dispatch=4, refit=True, return_train_score='warn', scoring='f1',\n",
       "       verbose=0)"
      ]
     },
     "execution_count": 76,
     "metadata": {},
     "output_type": "execute_result"
    }
   ],
   "source": [
    "param_grid = [{'max_iter': [100, 150],\n",
    "               'penalty': ['l1', 'l2'],\n",
    "               'C': [0.05, 0.1]}]\n",
    "log_reg = LogisticRegression()\n",
    "grid_search = GridSearchCV(log_reg, param_grid, cv=5,\n",
    "                           scoring='f1',\n",
    "                           pre_dispatch=4)\n",
    "grid_search.fit(train_set_prepared_new, train_set_labels_new)"
   ]
  },
  {
   "cell_type": "markdown",
   "metadata": {},
   "source": [
    "Now let's evaluate the performance of our classifier using F1 score. "
   ]
  },
  {
   "cell_type": "code",
   "execution_count": 77,
   "metadata": {},
   "outputs": [
    {
     "data": {
      "text/plain": [
       "0.355689022355689"
      ]
     },
     "execution_count": 77,
     "metadata": {},
     "output_type": "execute_result"
    }
   ],
   "source": [
    "final_model = grid_search.best_estimator_\n",
    "train_set_predictions_log = cross_val_predict(final_model, \n",
    "                                              train_set_prepared_new, \n",
    "                                              train_set_labels_new, cv=5)\n",
    "f1_score(train_set_labels_new, train_set_predictions_log)"
   ]
  },
  {
   "cell_type": "markdown",
   "metadata": {},
   "source": [
    "Alternately, I evaluate the performance of a classifier using AUC."
   ]
  },
  {
   "cell_type": "code",
   "execution_count": 78,
   "metadata": {},
   "outputs": [
    {
     "data": {
      "text/plain": [
       "0.7324928855542121"
      ]
     },
     "execution_count": 78,
     "metadata": {},
     "output_type": "execute_result"
    }
   ],
   "source": [
    "train_set_scores_log = cross_val_predict(final_model, \n",
    "                                         train_set_prepared_new, \n",
    "                                         train_set_labels_new, \n",
    "                                         cv=5,\n",
    "                                         method='decision_function')\n",
    "roc_auc_score(train_set_labels_new, train_set_scores_log)"
   ]
  },
  {
   "cell_type": "markdown",
   "metadata": {},
   "source": [
    "I can try different classification algorithms for this project. Let's do the random forest algorithm, and get the F1 score for this model."
   ]
  },
  {
   "cell_type": "code",
   "execution_count": 79,
   "metadata": {},
   "outputs": [
    {
     "data": {
      "text/plain": [
       "0.24229845765677777"
      ]
     },
     "execution_count": 79,
     "metadata": {},
     "output_type": "execute_result"
    }
   ],
   "source": [
    "from sklearn.ensemble import RandomForestClassifier\n",
    "\n",
    "forest_clf = RandomForestClassifier()\n",
    "forest_clf.fit(train_set_prepared_new, train_set_labels_new)\n",
    "train_set_predictions_forest = cross_val_predict(forest_clf, \n",
    "                                                 train_set_prepared_new, \n",
    "                                                 train_set_labels_new, cv=5)\n",
    "f1_score(train_set_labels_new, train_set_predictions_forest)"
   ]
  },
  {
   "cell_type": "markdown",
   "metadata": {},
   "source": [
    "Next, I get the AUC for this classifier."
   ]
  },
  {
   "cell_type": "code",
   "execution_count": 80,
   "metadata": {},
   "outputs": [
    {
     "data": {
      "text/plain": [
       "0.60583721614589447"
      ]
     },
     "execution_count": 80,
     "metadata": {},
     "output_type": "execute_result"
    }
   ],
   "source": [
    "train_set_probas_forest = cross_val_predict(forest_clf, \n",
    "                                            train_set_prepared_new, \n",
    "                                            train_set_labels_new, \n",
    "                                            cv=5,\n",
    "                                            method='predict_proba')\n",
    "train_set_scores_forest = train_set_probas_forest[:, 1]\n",
    "roc_auc_score(train_set_labels_new, train_set_scores_forest)"
   ]
  },
  {
   "cell_type": "markdown",
   "metadata": {},
   "source": [
    "Similarly, I try nonlinear SVM algorithm. And let's get the F1 score for this model."
   ]
  },
  {
   "cell_type": "code",
   "execution_count": 81,
   "metadata": {},
   "outputs": [
    {
     "data": {
      "text/plain": [
       "0.25284143841997392"
      ]
     },
     "execution_count": 81,
     "metadata": {},
     "output_type": "execute_result"
    }
   ],
   "source": [
    "from sklearn.svm import SVC\n",
    "\n",
    "svm_clf = SVC(kernel='poly')\n",
    "svm_clf.fit(train_set_prepared_new, train_set_labels_new)\n",
    "train_set_predictions_svm = cross_val_predict(svm_clf, \n",
    "                                              train_set_prepared_new, \n",
    "                                              train_set_labels_new, cv=5)\n",
    "f1_score(train_set_labels_new, train_set_predictions_svm)"
   ]
  },
  {
   "cell_type": "markdown",
   "metadata": {},
   "source": [
    "Similarly, I get the AUC for this classifier."
   ]
  },
  {
   "cell_type": "code",
   "execution_count": 83,
   "metadata": {},
   "outputs": [
    {
     "data": {
      "text/plain": [
       "0.65603433644331521"
      ]
     },
     "execution_count": 83,
     "metadata": {},
     "output_type": "execute_result"
    }
   ],
   "source": [
    "train_set_scores_svm = cross_val_predict(svm_clf, \n",
    "                                         train_set_prepared_new, \n",
    "                                         train_set_labels_new, \n",
    "                                         cv=5,\n",
    "                                         method='decision_function')\n",
    "roc_auc_score(train_set_labels_new, train_set_scores_svm)"
   ]
  },
  {
   "cell_type": "markdown",
   "metadata": {},
   "source": [
    "Finally, let's get ROC curve for all three classifier and compare it."
   ]
  },
  {
   "cell_type": "code",
   "execution_count": 85,
   "metadata": {},
   "outputs": [
    {
     "name": "stdout",
     "output_type": "stream",
     "text": [
      "Saving figure roc_three_classifier\n"
     ]
    },
    {
     "data": {
      "image/png": "[encoded data removed]",
      "text/plain": [
       "<matplotlib.figure.Figure at 0x7efc41058518>"
      ]
     },
     "metadata": {},
     "output_type": "display_data"
    }
   ],
   "source": [
    "fpr_log, tpr_log, thresholds_log = roc_curve(train_set_labels_new, \n",
    "                                             train_set_scores_log)\n",
    "fpr_forest, tpr_forest, thresholds_forest = roc_curve(train_set_labels_new, \n",
    "                                                      train_set_scores_forest)\n",
    "fpr_svm, tpr_svm, thresholds_svm = roc_curve(train_set_labels_new, \n",
    "                                             train_set_scores_svm)\n",
    "plt.plot(fpr_log, tpr_log, 'r--', label='Logistic Regression')\n",
    "plt.plot(fpr_forest, tpr_forest, 'g^', label='Random Forests')\n",
    "plotting.plot_roc_curve(fpr_svm, tpr_svm, 'Nonlinear SVM')\n",
    "plt.legend(loc='lower right')\n",
    "plotting.save_fig('roc_three_classifier')\n",
    "plt.show()"
   ]
  },
  {
   "cell_type": "markdown",
   "metadata": {},
   "source": [
    "## Evaluate Your System on the Test Set"
   ]
  },
  {
   "cell_type": "markdown",
   "metadata": {},
   "source": [
    "There is nothing special about this process; just get the predictors and the labels from the test set, run our full_pipeline to transform. "
   ]
  },
  {
   "cell_type": "code",
   "execution_count": 86,
   "metadata": {},
   "outputs": [],
   "source": [
    "loading.redefine_test_category(data_name='test_set')\n",
    "test_set = loading.load_test_car_data(version='new')\n",
    "test_labels = loading.load_test_labels_car_data()\n",
    "test_set_labels = test_labels['IsBadBuy'].copy()\n",
    "test_set_prepared = full_pipeline_new.fit_transform(test_set)"
   ]
  },
  {
   "cell_type": "markdown",
   "metadata": {},
   "source": [
    "Now, I evaluate the accuracy of the prediction on the testing dataset. First, let's do the logistic regression model."
   ]
  },
  {
   "cell_type": "code",
   "execution_count": 87,
   "metadata": {},
   "outputs": [
    {
     "data": {
      "text/plain": [
       "0.95795265567577559"
      ]
     },
     "execution_count": 87,
     "metadata": {},
     "output_type": "execute_result"
    }
   ],
   "source": [
    "from sklearn.metrics import accuracy_score\n",
    "\n",
    "test_set_predictions_log = final_model.predict(test_set_prepared)\n",
    "accuracy_score(test_set_labels, test_set_predictions_log)"
   ]
  },
  {
   "cell_type": "markdown",
   "metadata": {},
   "source": [
    "Next, let's do the random forest model."
   ]
  },
  {
   "cell_type": "code",
   "execution_count": 88,
   "metadata": {},
   "outputs": [
    {
     "data": {
      "text/plain": [
       "0.95965672285297798"
      ]
     },
     "execution_count": 88,
     "metadata": {},
     "output_type": "execute_result"
    }
   ],
   "source": [
    "test_set_predictions_forest = forest_clf.predict(test_set_prepared)\n",
    "accuracy_score(test_set_labels, test_set_predictions_forest)"
   ]
  },
  {
   "cell_type": "markdown",
   "metadata": {},
   "source": [
    "Finally, let's do the nonlinear SVM model."
   ]
  },
  {
   "cell_type": "code",
   "execution_count": 89,
   "metadata": {},
   "outputs": [
    {
     "data": {
      "text/plain": [
       "0.96799228037037799"
      ]
     },
     "execution_count": 89,
     "metadata": {},
     "output_type": "execute_result"
    }
   ],
   "source": [
    "test_set_predictions_svm = svm_clf.predict(test_set_prepared)\n",
    "accuracy_score(test_set_labels, test_set_predictions_svm)"
   ]
  }
 ],
 "metadata": {
  "kernelspec": {
   "display_name": "Python 3",
   "language": "python",
   "name": "python3"
  },
  "language_info": {
   "codemirror_mode": {
    "name": "ipython",
    "version": 3
   },
   "file_extension": ".py",
   "mimetype": "text/x-python",
   "name": "python",
   "nbconvert_exporter": "python",
   "pygments_lexer": "ipython3",
   "version": "3.6.3"
  },
  "nav_menu": {
   "height": "279px",
   "width": "309px"
  },
  "toc": {
   "nav_menu": {},
   "number_sections": true,
   "sideBar": true,
   "skip_h1_title": false,
   "toc_cell": false,
   "toc_position": {},
   "toc_section_display": "block",
   "toc_window_display": false
  }
 },
 "nbformat": 4,
 "nbformat_minor": 1
}
